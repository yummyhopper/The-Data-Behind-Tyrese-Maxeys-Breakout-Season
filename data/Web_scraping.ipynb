{
 "cells": [
  {
   "cell_type": "code",
   "execution_count": 1,
   "id": "43498a8f-2268-4fb0-8923-0546fd4d3704",
   "metadata": {
    "tags": []
   },
   "outputs": [],
   "source": [
    "import os\n",
    "import re\n",
    "import json\n",
    "import time\n",
    "import requests\n",
    "import random\n",
    "from bs4 import BeautifulSoup\n",
    "import pandas as pd"
   ]
  },
  {
   "cell_type": "code",
   "execution_count": 2,
   "id": "2abf6cda-4122-4dab-9fa7-c60d6facc039",
   "metadata": {
    "tags": []
   },
   "outputs": [],
   "source": [
    "BASE_URL = 'https://www.basketball-reference.com/players/m/maxeyty01.html'"
   ]
  },
  {
   "cell_type": "code",
   "execution_count": 3,
   "id": "ab67e310-5e35-4f30-84f8-65d6a6e6e66d",
   "metadata": {
    "tags": []
   },
   "outputs": [],
   "source": [
    "tables = pd.read_html(BASE_URL)"
   ]
  },
  {
   "cell_type": "code",
   "execution_count": 4,
   "id": "e035a0c2-d5f6-4386-b069-4ef0dcdaa5bf",
   "metadata": {
    "tags": []
   },
   "outputs": [
    {
     "data": {
      "text/plain": [
       "8"
      ]
     },
     "execution_count": 4,
     "metadata": {},
     "output_type": "execute_result"
    }
   ],
   "source": [
    "len(tables)"
   ]
  },
  {
   "cell_type": "code",
   "execution_count": 5,
   "id": "b2f9f326-44ea-4192-b403-2ded6b8330fa",
   "metadata": {
    "tags": []
   },
   "outputs": [
    {
     "data": {
      "text/html": [
       "<div>\n",
       "<style scoped>\n",
       "    .dataframe tbody tr th:only-of-type {\n",
       "        vertical-align: middle;\n",
       "    }\n",
       "\n",
       "    .dataframe tbody tr th {\n",
       "        vertical-align: top;\n",
       "    }\n",
       "\n",
       "    .dataframe thead th {\n",
       "        text-align: right;\n",
       "    }\n",
       "</style>\n",
       "<table border=\"1\" class=\"dataframe\">\n",
       "  <thead>\n",
       "    <tr style=\"text-align: right;\">\n",
       "      <th></th>\n",
       "      <th>Season</th>\n",
       "      <th>Age</th>\n",
       "      <th>Tm</th>\n",
       "      <th>Lg</th>\n",
       "      <th>Pos</th>\n",
       "      <th>G</th>\n",
       "      <th>GS</th>\n",
       "      <th>MP</th>\n",
       "      <th>FG</th>\n",
       "      <th>FGA</th>\n",
       "      <th>...</th>\n",
       "      <th>FT%</th>\n",
       "      <th>ORB</th>\n",
       "      <th>DRB</th>\n",
       "      <th>TRB</th>\n",
       "      <th>AST</th>\n",
       "      <th>STL</th>\n",
       "      <th>BLK</th>\n",
       "      <th>TOV</th>\n",
       "      <th>PF</th>\n",
       "      <th>PTS</th>\n",
       "    </tr>\n",
       "  </thead>\n",
       "  <tbody>\n",
       "    <tr>\n",
       "      <th>0</th>\n",
       "      <td>2020-21</td>\n",
       "      <td>20.0</td>\n",
       "      <td>PHI</td>\n",
       "      <td>NBA</td>\n",
       "      <td>SG</td>\n",
       "      <td>61</td>\n",
       "      <td>8</td>\n",
       "      <td>15.3</td>\n",
       "      <td>3.2</td>\n",
       "      <td>7.0</td>\n",
       "      <td>...</td>\n",
       "      <td>0.871</td>\n",
       "      <td>0.2</td>\n",
       "      <td>1.5</td>\n",
       "      <td>1.7</td>\n",
       "      <td>2.0</td>\n",
       "      <td>0.4</td>\n",
       "      <td>0.2</td>\n",
       "      <td>0.7</td>\n",
       "      <td>1.3</td>\n",
       "      <td>8.0</td>\n",
       "    </tr>\n",
       "    <tr>\n",
       "      <th>1</th>\n",
       "      <td>2021-22</td>\n",
       "      <td>21.0</td>\n",
       "      <td>PHI</td>\n",
       "      <td>NBA</td>\n",
       "      <td>PG</td>\n",
       "      <td>75</td>\n",
       "      <td>74</td>\n",
       "      <td>35.3</td>\n",
       "      <td>6.4</td>\n",
       "      <td>13.3</td>\n",
       "      <td>...</td>\n",
       "      <td>0.866</td>\n",
       "      <td>0.3</td>\n",
       "      <td>2.9</td>\n",
       "      <td>3.2</td>\n",
       "      <td>4.3</td>\n",
       "      <td>0.7</td>\n",
       "      <td>0.4</td>\n",
       "      <td>1.2</td>\n",
       "      <td>2.1</td>\n",
       "      <td>17.5</td>\n",
       "    </tr>\n",
       "    <tr>\n",
       "      <th>2</th>\n",
       "      <td>2022-23</td>\n",
       "      <td>22.0</td>\n",
       "      <td>PHI</td>\n",
       "      <td>NBA</td>\n",
       "      <td>SG</td>\n",
       "      <td>60</td>\n",
       "      <td>41</td>\n",
       "      <td>33.6</td>\n",
       "      <td>7.3</td>\n",
       "      <td>15.2</td>\n",
       "      <td>...</td>\n",
       "      <td>0.845</td>\n",
       "      <td>0.4</td>\n",
       "      <td>2.6</td>\n",
       "      <td>2.9</td>\n",
       "      <td>3.5</td>\n",
       "      <td>0.8</td>\n",
       "      <td>0.1</td>\n",
       "      <td>1.3</td>\n",
       "      <td>2.2</td>\n",
       "      <td>20.3</td>\n",
       "    </tr>\n",
       "    <tr>\n",
       "      <th>3</th>\n",
       "      <td>2023-24</td>\n",
       "      <td>23.0</td>\n",
       "      <td>PHI</td>\n",
       "      <td>NBA</td>\n",
       "      <td>PG</td>\n",
       "      <td>22</td>\n",
       "      <td>22</td>\n",
       "      <td>37.5</td>\n",
       "      <td>9.0</td>\n",
       "      <td>19.5</td>\n",
       "      <td>...</td>\n",
       "      <td>0.895</td>\n",
       "      <td>0.6</td>\n",
       "      <td>3.5</td>\n",
       "      <td>4.1</td>\n",
       "      <td>6.8</td>\n",
       "      <td>0.8</td>\n",
       "      <td>0.6</td>\n",
       "      <td>1.4</td>\n",
       "      <td>1.9</td>\n",
       "      <td>26.1</td>\n",
       "    </tr>\n",
       "    <tr>\n",
       "      <th>4</th>\n",
       "      <td>Career</td>\n",
       "      <td>NaN</td>\n",
       "      <td>NaN</td>\n",
       "      <td>NBA</td>\n",
       "      <td>NaN</td>\n",
       "      <td>218</td>\n",
       "      <td>145</td>\n",
       "      <td>29.5</td>\n",
       "      <td>6.0</td>\n",
       "      <td>12.7</td>\n",
       "      <td>...</td>\n",
       "      <td>0.865</td>\n",
       "      <td>0.3</td>\n",
       "      <td>2.5</td>\n",
       "      <td>2.8</td>\n",
       "      <td>3.7</td>\n",
       "      <td>0.7</td>\n",
       "      <td>0.3</td>\n",
       "      <td>1.1</td>\n",
       "      <td>1.9</td>\n",
       "      <td>16.5</td>\n",
       "    </tr>\n",
       "  </tbody>\n",
       "</table>\n",
       "<p>5 rows × 30 columns</p>\n",
       "</div>"
      ],
      "text/plain": [
       "    Season   Age   Tm   Lg  Pos    G   GS    MP   FG   FGA  ...    FT%  ORB  \\\n",
       "0  2020-21  20.0  PHI  NBA   SG   61    8  15.3  3.2   7.0  ...  0.871  0.2   \n",
       "1  2021-22  21.0  PHI  NBA   PG   75   74  35.3  6.4  13.3  ...  0.866  0.3   \n",
       "2  2022-23  22.0  PHI  NBA   SG   60   41  33.6  7.3  15.2  ...  0.845  0.4   \n",
       "3  2023-24  23.0  PHI  NBA   PG   22   22  37.5  9.0  19.5  ...  0.895  0.6   \n",
       "4   Career   NaN  NaN  NBA  NaN  218  145  29.5  6.0  12.7  ...  0.865  0.3   \n",
       "\n",
       "   DRB  TRB  AST  STL  BLK  TOV   PF   PTS  \n",
       "0  1.5  1.7  2.0  0.4  0.2  0.7  1.3   8.0  \n",
       "1  2.9  3.2  4.3  0.7  0.4  1.2  2.1  17.5  \n",
       "2  2.6  2.9  3.5  0.8  0.1  1.3  2.2  20.3  \n",
       "3  3.5  4.1  6.8  0.8  0.6  1.4  1.9  26.1  \n",
       "4  2.5  2.8  3.7  0.7  0.3  1.1  1.9  16.5  \n",
       "\n",
       "[5 rows x 30 columns]"
      ]
     },
     "execution_count": 5,
     "metadata": {},
     "output_type": "execute_result"
    }
   ],
   "source": [
    "per_game = tables[1]\n",
    "per_game"
   ]
  },
  {
   "cell_type": "code",
   "execution_count": 6,
   "id": "953c7036-d1a3-4aed-9755-ac0577557bb0",
   "metadata": {
    "tags": []
   },
   "outputs": [],
   "source": [
    "per_game.to_csv(\"../data/per_game.csv\", index=False)"
   ]
  },
  {
   "cell_type": "code",
   "execution_count": 7,
   "id": "a6372fd0-1550-464f-8e51-d1d8e91584fc",
   "metadata": {
    "tags": []
   },
   "outputs": [
    {
     "data": {
      "text/html": [
       "<div>\n",
       "<style scoped>\n",
       "    .dataframe tbody tr th:only-of-type {\n",
       "        vertical-align: middle;\n",
       "    }\n",
       "\n",
       "    .dataframe tbody tr th {\n",
       "        vertical-align: top;\n",
       "    }\n",
       "\n",
       "    .dataframe thead th {\n",
       "        text-align: right;\n",
       "    }\n",
       "</style>\n",
       "<table border=\"1\" class=\"dataframe\">\n",
       "  <thead>\n",
       "    <tr style=\"text-align: right;\">\n",
       "      <th></th>\n",
       "      <th>Season</th>\n",
       "      <th>Age</th>\n",
       "      <th>Tm</th>\n",
       "      <th>Lg</th>\n",
       "      <th>Pos</th>\n",
       "      <th>G</th>\n",
       "      <th>MP</th>\n",
       "      <th>PER</th>\n",
       "      <th>TS%</th>\n",
       "      <th>3PAr</th>\n",
       "      <th>...</th>\n",
       "      <th>Unnamed: 19</th>\n",
       "      <th>OWS</th>\n",
       "      <th>DWS</th>\n",
       "      <th>WS</th>\n",
       "      <th>WS/48</th>\n",
       "      <th>Unnamed: 24</th>\n",
       "      <th>OBPM</th>\n",
       "      <th>DBPM</th>\n",
       "      <th>BPM</th>\n",
       "      <th>VORP</th>\n",
       "    </tr>\n",
       "  </thead>\n",
       "  <tbody>\n",
       "    <tr>\n",
       "      <th>0</th>\n",
       "      <td>2020-21</td>\n",
       "      <td>20.0</td>\n",
       "      <td>PHI</td>\n",
       "      <td>NBA</td>\n",
       "      <td>SG</td>\n",
       "      <td>61</td>\n",
       "      <td>935</td>\n",
       "      <td>14.5</td>\n",
       "      <td>0.531</td>\n",
       "      <td>0.240</td>\n",
       "      <td>...</td>\n",
       "      <td>NaN</td>\n",
       "      <td>0.8</td>\n",
       "      <td>1.1</td>\n",
       "      <td>1.9</td>\n",
       "      <td>0.099</td>\n",
       "      <td>NaN</td>\n",
       "      <td>-1.0</td>\n",
       "      <td>-0.5</td>\n",
       "      <td>-1.5</td>\n",
       "      <td>0.1</td>\n",
       "    </tr>\n",
       "    <tr>\n",
       "      <th>1</th>\n",
       "      <td>2021-22</td>\n",
       "      <td>21.0</td>\n",
       "      <td>PHI</td>\n",
       "      <td>NBA</td>\n",
       "      <td>PG</td>\n",
       "      <td>75</td>\n",
       "      <td>2650</td>\n",
       "      <td>16.2</td>\n",
       "      <td>0.594</td>\n",
       "      <td>0.311</td>\n",
       "      <td>...</td>\n",
       "      <td>NaN</td>\n",
       "      <td>5.4</td>\n",
       "      <td>1.9</td>\n",
       "      <td>7.3</td>\n",
       "      <td>0.132</td>\n",
       "      <td>NaN</td>\n",
       "      <td>1.3</td>\n",
       "      <td>-0.7</td>\n",
       "      <td>0.6</td>\n",
       "      <td>1.8</td>\n",
       "    </tr>\n",
       "    <tr>\n",
       "      <th>2</th>\n",
       "      <td>2022-23</td>\n",
       "      <td>22.0</td>\n",
       "      <td>PHI</td>\n",
       "      <td>NBA</td>\n",
       "      <td>SG</td>\n",
       "      <td>60</td>\n",
       "      <td>2016</td>\n",
       "      <td>17.0</td>\n",
       "      <td>0.605</td>\n",
       "      <td>0.404</td>\n",
       "      <td>...</td>\n",
       "      <td>NaN</td>\n",
       "      <td>3.7</td>\n",
       "      <td>1.6</td>\n",
       "      <td>5.4</td>\n",
       "      <td>0.128</td>\n",
       "      <td>NaN</td>\n",
       "      <td>1.9</td>\n",
       "      <td>-1.2</td>\n",
       "      <td>0.6</td>\n",
       "      <td>1.3</td>\n",
       "    </tr>\n",
       "    <tr>\n",
       "      <th>3</th>\n",
       "      <td>2023-24</td>\n",
       "      <td>23.0</td>\n",
       "      <td>PHI</td>\n",
       "      <td>NBA</td>\n",
       "      <td>PG</td>\n",
       "      <td>22</td>\n",
       "      <td>826</td>\n",
       "      <td>21.6</td>\n",
       "      <td>0.596</td>\n",
       "      <td>0.416</td>\n",
       "      <td>...</td>\n",
       "      <td>NaN</td>\n",
       "      <td>2.9</td>\n",
       "      <td>0.7</td>\n",
       "      <td>3.5</td>\n",
       "      <td>0.204</td>\n",
       "      <td>NaN</td>\n",
       "      <td>5.6</td>\n",
       "      <td>-0.9</td>\n",
       "      <td>4.7</td>\n",
       "      <td>1.4</td>\n",
       "    </tr>\n",
       "    <tr>\n",
       "      <th>4</th>\n",
       "      <td>Career</td>\n",
       "      <td>NaN</td>\n",
       "      <td>NaN</td>\n",
       "      <td>NBA</td>\n",
       "      <td>NaN</td>\n",
       "      <td>218</td>\n",
       "      <td>6427</td>\n",
       "      <td>16.9</td>\n",
       "      <td>0.588</td>\n",
       "      <td>0.347</td>\n",
       "      <td>...</td>\n",
       "      <td>NaN</td>\n",
       "      <td>12.8</td>\n",
       "      <td>5.3</td>\n",
       "      <td>18.1</td>\n",
       "      <td>0.135</td>\n",
       "      <td>NaN</td>\n",
       "      <td>1.7</td>\n",
       "      <td>-0.9</td>\n",
       "      <td>0.8</td>\n",
       "      <td>4.6</td>\n",
       "    </tr>\n",
       "  </tbody>\n",
       "</table>\n",
       "<p>5 rows × 29 columns</p>\n",
       "</div>"
      ],
      "text/plain": [
       "    Season   Age   Tm   Lg  Pos    G    MP   PER    TS%   3PAr  ...  \\\n",
       "0  2020-21  20.0  PHI  NBA   SG   61   935  14.5  0.531  0.240  ...   \n",
       "1  2021-22  21.0  PHI  NBA   PG   75  2650  16.2  0.594  0.311  ...   \n",
       "2  2022-23  22.0  PHI  NBA   SG   60  2016  17.0  0.605  0.404  ...   \n",
       "3  2023-24  23.0  PHI  NBA   PG   22   826  21.6  0.596  0.416  ...   \n",
       "4   Career   NaN  NaN  NBA  NaN  218  6427  16.9  0.588  0.347  ...   \n",
       "\n",
       "   Unnamed: 19   OWS  DWS    WS  WS/48  Unnamed: 24  OBPM  DBPM  BPM  VORP  \n",
       "0          NaN   0.8  1.1   1.9  0.099          NaN  -1.0  -0.5 -1.5   0.1  \n",
       "1          NaN   5.4  1.9   7.3  0.132          NaN   1.3  -0.7  0.6   1.8  \n",
       "2          NaN   3.7  1.6   5.4  0.128          NaN   1.9  -1.2  0.6   1.3  \n",
       "3          NaN   2.9  0.7   3.5  0.204          NaN   5.6  -0.9  4.7   1.4  \n",
       "4          NaN  12.8  5.3  18.1  0.135          NaN   1.7  -0.9  0.8   4.6  \n",
       "\n",
       "[5 rows x 29 columns]"
      ]
     },
     "execution_count": 7,
     "metadata": {},
     "output_type": "execute_result"
    }
   ],
   "source": [
    "advanced = tables[6]\n",
    "advanced"
   ]
  },
  {
   "cell_type": "code",
   "execution_count": 8,
   "id": "37cb9de0-0858-42d5-a137-f0818f6a02f1",
   "metadata": {
    "tags": []
   },
   "outputs": [],
   "source": [
    "advanced.to_csv(\"../data/advanced.csv\", index=False)"
   ]
  },
  {
   "cell_type": "code",
   "execution_count": 9,
   "id": "3816b748-ae28-462e-a63f-bb48344503c0",
   "metadata": {
    "tags": []
   },
   "outputs": [
    {
     "data": {
      "text/html": [
       "<div>\n",
       "<style scoped>\n",
       "    .dataframe tbody tr th:only-of-type {\n",
       "        vertical-align: middle;\n",
       "    }\n",
       "\n",
       "    .dataframe tbody tr th {\n",
       "        vertical-align: top;\n",
       "    }\n",
       "\n",
       "    .dataframe thead th {\n",
       "        text-align: right;\n",
       "    }\n",
       "</style>\n",
       "<table border=\"1\" class=\"dataframe\">\n",
       "  <thead>\n",
       "    <tr style=\"text-align: right;\">\n",
       "      <th></th>\n",
       "      <th>Season</th>\n",
       "      <th>Age</th>\n",
       "      <th>Tm</th>\n",
       "      <th>Lg</th>\n",
       "      <th>Pos</th>\n",
       "      <th>G</th>\n",
       "      <th>MP</th>\n",
       "      <th>PER</th>\n",
       "      <th>TS%</th>\n",
       "      <th>3PAr</th>\n",
       "      <th>...</th>\n",
       "      <th>Unnamed: 19</th>\n",
       "      <th>OWS</th>\n",
       "      <th>DWS</th>\n",
       "      <th>WS</th>\n",
       "      <th>WS/48</th>\n",
       "      <th>Unnamed: 24</th>\n",
       "      <th>OBPM</th>\n",
       "      <th>DBPM</th>\n",
       "      <th>BPM</th>\n",
       "      <th>VORP</th>\n",
       "    </tr>\n",
       "  </thead>\n",
       "  <tbody>\n",
       "    <tr>\n",
       "      <th>0</th>\n",
       "      <td>2020-21</td>\n",
       "      <td>20.0</td>\n",
       "      <td>PHI</td>\n",
       "      <td>NBA</td>\n",
       "      <td>SG</td>\n",
       "      <td>12</td>\n",
       "      <td>156</td>\n",
       "      <td>12.7</td>\n",
       "      <td>0.502</td>\n",
       "      <td>0.182</td>\n",
       "      <td>...</td>\n",
       "      <td>NaN</td>\n",
       "      <td>0.0</td>\n",
       "      <td>0.2</td>\n",
       "      <td>0.2</td>\n",
       "      <td>0.074</td>\n",
       "      <td>NaN</td>\n",
       "      <td>-2.0</td>\n",
       "      <td>0.8</td>\n",
       "      <td>-1.2</td>\n",
       "      <td>0.0</td>\n",
       "    </tr>\n",
       "    <tr>\n",
       "      <th>1</th>\n",
       "      <td>2021-22</td>\n",
       "      <td>21.0</td>\n",
       "      <td>PHI</td>\n",
       "      <td>NBA</td>\n",
       "      <td>PG</td>\n",
       "      <td>12</td>\n",
       "      <td>485</td>\n",
       "      <td>16.9</td>\n",
       "      <td>0.610</td>\n",
       "      <td>0.379</td>\n",
       "      <td>...</td>\n",
       "      <td>NaN</td>\n",
       "      <td>1.1</td>\n",
       "      <td>0.2</td>\n",
       "      <td>1.3</td>\n",
       "      <td>0.132</td>\n",
       "      <td>NaN</td>\n",
       "      <td>2.4</td>\n",
       "      <td>-0.3</td>\n",
       "      <td>2.1</td>\n",
       "      <td>0.5</td>\n",
       "    </tr>\n",
       "    <tr>\n",
       "      <th>2</th>\n",
       "      <td>2022-23</td>\n",
       "      <td>22.0</td>\n",
       "      <td>PHI</td>\n",
       "      <td>NBA</td>\n",
       "      <td>SG</td>\n",
       "      <td>11</td>\n",
       "      <td>423</td>\n",
       "      <td>16.8</td>\n",
       "      <td>0.550</td>\n",
       "      <td>0.443</td>\n",
       "      <td>...</td>\n",
       "      <td>NaN</td>\n",
       "      <td>0.6</td>\n",
       "      <td>0.4</td>\n",
       "      <td>1.0</td>\n",
       "      <td>0.117</td>\n",
       "      <td>NaN</td>\n",
       "      <td>1.9</td>\n",
       "      <td>0.4</td>\n",
       "      <td>2.2</td>\n",
       "      <td>0.5</td>\n",
       "    </tr>\n",
       "    <tr>\n",
       "      <th>3</th>\n",
       "      <td>Career</td>\n",
       "      <td>NaN</td>\n",
       "      <td>NaN</td>\n",
       "      <td>NBA</td>\n",
       "      <td>NaN</td>\n",
       "      <td>35</td>\n",
       "      <td>1064</td>\n",
       "      <td>16.2</td>\n",
       "      <td>0.568</td>\n",
       "      <td>0.377</td>\n",
       "      <td>...</td>\n",
       "      <td>NaN</td>\n",
       "      <td>1.7</td>\n",
       "      <td>0.9</td>\n",
       "      <td>2.6</td>\n",
       "      <td>0.117</td>\n",
       "      <td>NaN</td>\n",
       "      <td>1.6</td>\n",
       "      <td>0.1</td>\n",
       "      <td>1.7</td>\n",
       "      <td>1.0</td>\n",
       "    </tr>\n",
       "  </tbody>\n",
       "</table>\n",
       "<p>4 rows × 29 columns</p>\n",
       "</div>"
      ],
      "text/plain": [
       "    Season   Age   Tm   Lg  Pos   G    MP   PER    TS%   3PAr  ...  \\\n",
       "0  2020-21  20.0  PHI  NBA   SG  12   156  12.7  0.502  0.182  ...   \n",
       "1  2021-22  21.0  PHI  NBA   PG  12   485  16.9  0.610  0.379  ...   \n",
       "2  2022-23  22.0  PHI  NBA   SG  11   423  16.8  0.550  0.443  ...   \n",
       "3   Career   NaN  NaN  NBA  NaN  35  1064  16.2  0.568  0.377  ...   \n",
       "\n",
       "   Unnamed: 19  OWS  DWS   WS  WS/48  Unnamed: 24  OBPM  DBPM  BPM  VORP  \n",
       "0          NaN  0.0  0.2  0.2  0.074          NaN  -2.0   0.8 -1.2   0.0  \n",
       "1          NaN  1.1  0.2  1.3  0.132          NaN   2.4  -0.3  2.1   0.5  \n",
       "2          NaN  0.6  0.4  1.0  0.117          NaN   1.9   0.4  2.2   0.5  \n",
       "3          NaN  1.7  0.9  2.6  0.117          NaN   1.6   0.1  1.7   1.0  \n",
       "\n",
       "[4 rows x 29 columns]"
      ]
     },
     "execution_count": 9,
     "metadata": {},
     "output_type": "execute_result"
    }
   ],
   "source": [
    "shooting = tables[7]\n",
    "shooting"
   ]
  },
  {
   "cell_type": "code",
   "execution_count": 10,
   "id": "2ac54e90-a0d6-4ac3-89e1-3c802f1783a9",
   "metadata": {
    "tags": []
   },
   "outputs": [],
   "source": [
    "College_URL = \"https://www.sports-reference.com/cbb/players/tyrese-maxey-1.html?utm_medium=sr_xsite&utm_source=bbr&utm_campaign=2023_02_tbl_player_college_stats&utm_content=lnk_mcbb&utm_id=maxeyty01&__hstc=180814520.7af6a6c26ac998400be3ee219bcf4f1f.1701358307557.1701358307557.1701358307557.1&__hssc=180814520.2.1701358307558&__hsfp=1999393944\""
   ]
  },
  {
   "cell_type": "code",
   "execution_count": 11,
   "id": "0e624db8-ec26-4676-ab1e-4915f8a29264",
   "metadata": {
    "tags": []
   },
   "outputs": [],
   "source": [
    "tables = pd.read_html(College_URL)"
   ]
  },
  {
   "cell_type": "code",
   "execution_count": 12,
   "id": "08ea77f5-6e7b-49a3-a07b-45e62c3a5264",
   "metadata": {
    "tags": []
   },
   "outputs": [
    {
     "data": {
      "text/plain": [
       "10"
      ]
     },
     "execution_count": 12,
     "metadata": {},
     "output_type": "execute_result"
    }
   ],
   "source": [
    "len(tables)"
   ]
  },
  {
   "cell_type": "code",
   "execution_count": 13,
   "id": "a71289f8-d972-44a1-9085-406a1836b96f",
   "metadata": {
    "tags": []
   },
   "outputs": [
    {
     "data": {
      "text/html": [
       "<div>\n",
       "<style scoped>\n",
       "    .dataframe tbody tr th:only-of-type {\n",
       "        vertical-align: middle;\n",
       "    }\n",
       "\n",
       "    .dataframe tbody tr th {\n",
       "        vertical-align: top;\n",
       "    }\n",
       "\n",
       "    .dataframe thead th {\n",
       "        text-align: right;\n",
       "    }\n",
       "</style>\n",
       "<table border=\"1\" class=\"dataframe\">\n",
       "  <thead>\n",
       "    <tr style=\"text-align: right;\">\n",
       "      <th></th>\n",
       "      <th>Season</th>\n",
       "      <th>School</th>\n",
       "      <th>Conf</th>\n",
       "      <th>Class</th>\n",
       "      <th>G</th>\n",
       "      <th>GS</th>\n",
       "      <th>MP</th>\n",
       "      <th>FG</th>\n",
       "      <th>FGA</th>\n",
       "      <th>FG%</th>\n",
       "      <th>...</th>\n",
       "      <th>DRB</th>\n",
       "      <th>TRB</th>\n",
       "      <th>AST</th>\n",
       "      <th>STL</th>\n",
       "      <th>BLK</th>\n",
       "      <th>TOV</th>\n",
       "      <th>PF</th>\n",
       "      <th>PTS</th>\n",
       "      <th>Unnamed: 28</th>\n",
       "      <th>SOS</th>\n",
       "    </tr>\n",
       "  </thead>\n",
       "  <tbody>\n",
       "    <tr>\n",
       "      <th>0</th>\n",
       "      <td>2019-20</td>\n",
       "      <td>Kentucky</td>\n",
       "      <td>SEC</td>\n",
       "      <td>FR</td>\n",
       "      <td>31</td>\n",
       "      <td>28</td>\n",
       "      <td>34.5</td>\n",
       "      <td>4.8</td>\n",
       "      <td>11.3</td>\n",
       "      <td>0.427</td>\n",
       "      <td>...</td>\n",
       "      <td>3.9</td>\n",
       "      <td>4.3</td>\n",
       "      <td>3.2</td>\n",
       "      <td>0.9</td>\n",
       "      <td>0.4</td>\n",
       "      <td>2.2</td>\n",
       "      <td>2.4</td>\n",
       "      <td>14.0</td>\n",
       "      <td>NaN</td>\n",
       "      <td>7.46</td>\n",
       "    </tr>\n",
       "    <tr>\n",
       "      <th>1</th>\n",
       "      <td>Career</td>\n",
       "      <td>Kentucky</td>\n",
       "      <td>NaN</td>\n",
       "      <td>NaN</td>\n",
       "      <td>31</td>\n",
       "      <td>28</td>\n",
       "      <td>34.5</td>\n",
       "      <td>4.8</td>\n",
       "      <td>11.3</td>\n",
       "      <td>0.427</td>\n",
       "      <td>...</td>\n",
       "      <td>3.9</td>\n",
       "      <td>4.3</td>\n",
       "      <td>3.2</td>\n",
       "      <td>0.9</td>\n",
       "      <td>0.4</td>\n",
       "      <td>2.2</td>\n",
       "      <td>2.4</td>\n",
       "      <td>14.0</td>\n",
       "      <td>NaN</td>\n",
       "      <td>7.46</td>\n",
       "    </tr>\n",
       "  </tbody>\n",
       "</table>\n",
       "<p>2 rows × 30 columns</p>\n",
       "</div>"
      ],
      "text/plain": [
       "    Season    School Conf Class   G  GS    MP   FG   FGA    FG%  ...  DRB  \\\n",
       "0  2019-20  Kentucky  SEC    FR  31  28  34.5  4.8  11.3  0.427  ...  3.9   \n",
       "1   Career  Kentucky  NaN   NaN  31  28  34.5  4.8  11.3  0.427  ...  3.9   \n",
       "\n",
       "   TRB  AST  STL  BLK  TOV   PF   PTS  Unnamed: 28   SOS  \n",
       "0  4.3  3.2  0.9  0.4  2.2  2.4  14.0          NaN  7.46  \n",
       "1  4.3  3.2  0.9  0.4  2.2  2.4  14.0          NaN  7.46  \n",
       "\n",
       "[2 rows x 30 columns]"
      ]
     },
     "execution_count": 13,
     "metadata": {},
     "output_type": "execute_result"
    }
   ],
   "source": [
    "College_per_game = tables[0]\n",
    "College_per_game"
   ]
  },
  {
   "cell_type": "code",
   "execution_count": 14,
   "id": "47bd74ab-8841-4c04-ba8f-7480a70c7654",
   "metadata": {
    "tags": []
   },
   "outputs": [],
   "source": [
    "College_per_game.to_csv(\"../data/college_per_game.csv\", index=False)"
   ]
  },
  {
   "cell_type": "code",
   "execution_count": 15,
   "id": "b2fedde6-d360-4014-b969-25094926d52b",
   "metadata": {
    "tags": []
   },
   "outputs": [
    {
     "data": {
      "text/html": [
       "<div>\n",
       "<style scoped>\n",
       "    .dataframe tbody tr th:only-of-type {\n",
       "        vertical-align: middle;\n",
       "    }\n",
       "\n",
       "    .dataframe tbody tr th {\n",
       "        vertical-align: top;\n",
       "    }\n",
       "\n",
       "    .dataframe thead th {\n",
       "        text-align: right;\n",
       "    }\n",
       "</style>\n",
       "<table border=\"1\" class=\"dataframe\">\n",
       "  <thead>\n",
       "    <tr style=\"text-align: right;\">\n",
       "      <th></th>\n",
       "      <th>Season</th>\n",
       "      <th>School</th>\n",
       "      <th>Conf</th>\n",
       "      <th>Class</th>\n",
       "      <th>G</th>\n",
       "      <th>GS</th>\n",
       "      <th>MP</th>\n",
       "      <th>PER</th>\n",
       "      <th>TS%</th>\n",
       "      <th>eFG%</th>\n",
       "      <th>...</th>\n",
       "      <th>USG%</th>\n",
       "      <th>Unnamed: 21</th>\n",
       "      <th>OWS</th>\n",
       "      <th>DWS</th>\n",
       "      <th>WS</th>\n",
       "      <th>WS/40</th>\n",
       "      <th>Unnamed: 26</th>\n",
       "      <th>OBPM</th>\n",
       "      <th>DBPM</th>\n",
       "      <th>BPM</th>\n",
       "    </tr>\n",
       "  </thead>\n",
       "  <tbody>\n",
       "    <tr>\n",
       "      <th>0</th>\n",
       "      <td>2019-20</td>\n",
       "      <td>Kentucky</td>\n",
       "      <td>SEC</td>\n",
       "      <td>FR</td>\n",
       "      <td>31</td>\n",
       "      <td>28</td>\n",
       "      <td>1069</td>\n",
       "      <td>16.3</td>\n",
       "      <td>0.531</td>\n",
       "      <td>0.474</td>\n",
       "      <td>...</td>\n",
       "      <td>22.7</td>\n",
       "      <td>NaN</td>\n",
       "      <td>2.1</td>\n",
       "      <td>1.5</td>\n",
       "      <td>3.6</td>\n",
       "      <td>0.134</td>\n",
       "      <td>NaN</td>\n",
       "      <td>2.4</td>\n",
       "      <td>2.0</td>\n",
       "      <td>4.4</td>\n",
       "    </tr>\n",
       "    <tr>\n",
       "      <th>1</th>\n",
       "      <td>Career</td>\n",
       "      <td>Kentucky</td>\n",
       "      <td>NaN</td>\n",
       "      <td>NaN</td>\n",
       "      <td>31</td>\n",
       "      <td>28</td>\n",
       "      <td>1069</td>\n",
       "      <td>16.3</td>\n",
       "      <td>0.531</td>\n",
       "      <td>0.474</td>\n",
       "      <td>...</td>\n",
       "      <td>22.7</td>\n",
       "      <td>NaN</td>\n",
       "      <td>2.1</td>\n",
       "      <td>1.5</td>\n",
       "      <td>3.6</td>\n",
       "      <td>0.134</td>\n",
       "      <td>NaN</td>\n",
       "      <td>2.4</td>\n",
       "      <td>2.0</td>\n",
       "      <td>4.4</td>\n",
       "    </tr>\n",
       "  </tbody>\n",
       "</table>\n",
       "<p>2 rows × 30 columns</p>\n",
       "</div>"
      ],
      "text/plain": [
       "    Season    School Conf Class   G  GS    MP   PER    TS%   eFG%  ...  USG%  \\\n",
       "0  2019-20  Kentucky  SEC    FR  31  28  1069  16.3  0.531  0.474  ...  22.7   \n",
       "1   Career  Kentucky  NaN   NaN  31  28  1069  16.3  0.531  0.474  ...  22.7   \n",
       "\n",
       "   Unnamed: 21  OWS  DWS   WS  WS/40  Unnamed: 26  OBPM  DBPM  BPM  \n",
       "0          NaN  2.1  1.5  3.6  0.134          NaN   2.4   2.0  4.4  \n",
       "1          NaN  2.1  1.5  3.6  0.134          NaN   2.4   2.0  4.4  \n",
       "\n",
       "[2 rows x 30 columns]"
      ]
     },
     "execution_count": 15,
     "metadata": {},
     "output_type": "execute_result"
    }
   ],
   "source": [
    "College_advanced = tables[8]\n",
    "College_advanced"
   ]
  },
  {
   "cell_type": "code",
   "execution_count": 16,
   "id": "c0bd975b-b07a-40bf-a90f-dc4ff212155b",
   "metadata": {
    "tags": []
   },
   "outputs": [],
   "source": [
    "College_advanced.to_csv(\"../data/college_advanced.csv\", index=False)"
   ]
  },
  {
   "cell_type": "code",
   "execution_count": 17,
   "id": "b5b43bda-eb4b-4b5a-90eb-be98597607d6",
   "metadata": {
    "tags": []
   },
   "outputs": [],
   "source": [
    "Transition_points_url = \"https://www.nba.com/stats/players/transition?dir=D&sort=PTS\""
   ]
  },
  {
   "cell_type": "code",
   "execution_count": 18,
   "id": "31145d6e-df7d-4247-928b-9250be52d085",
   "metadata": {
    "tags": []
   },
   "outputs": [
    {
     "ename": "ImportError",
     "evalue": "Pandas requires version '4.9.3' or newer of 'bs4' (version '4.8.2' currently installed).",
     "output_type": "error",
     "traceback": [
      "\u001b[0;31m---------------------------------------------------------------------------\u001b[0m",
      "\u001b[0;31mImportError\u001b[0m                               Traceback (most recent call last)",
      "\u001b[0;32m/tmp/ipykernel_397630/576134286.py\u001b[0m in \u001b[0;36m<module>\u001b[0;34m\u001b[0m\n\u001b[0;32m----> 1\u001b[0;31m \u001b[0mtables\u001b[0m \u001b[0;34m=\u001b[0m \u001b[0mpd\u001b[0m\u001b[0;34m.\u001b[0m\u001b[0mread_html\u001b[0m\u001b[0;34m(\u001b[0m\u001b[0mTransition_points_url\u001b[0m\u001b[0;34m)\u001b[0m\u001b[0;34m\u001b[0m\u001b[0;34m\u001b[0m\u001b[0m\n\u001b[0m",
      "\u001b[0;32m/usr/local/anaconda3/share/jupyter/venv/py3_comm318/lib/python3.8/site-packages/pandas/util/_decorators.py\u001b[0m in \u001b[0;36mwrapper\u001b[0;34m(*args, **kwargs)\u001b[0m\n\u001b[1;32m    329\u001b[0m                     \u001b[0mstacklevel\u001b[0m\u001b[0;34m=\u001b[0m\u001b[0mfind_stack_level\u001b[0m\u001b[0;34m(\u001b[0m\u001b[0;34m)\u001b[0m\u001b[0;34m,\u001b[0m\u001b[0;34m\u001b[0m\u001b[0;34m\u001b[0m\u001b[0m\n\u001b[1;32m    330\u001b[0m                 )\n\u001b[0;32m--> 331\u001b[0;31m             \u001b[0;32mreturn\u001b[0m \u001b[0mfunc\u001b[0m\u001b[0;34m(\u001b[0m\u001b[0;34m*\u001b[0m\u001b[0margs\u001b[0m\u001b[0;34m,\u001b[0m \u001b[0;34m**\u001b[0m\u001b[0mkwargs\u001b[0m\u001b[0;34m)\u001b[0m\u001b[0;34m\u001b[0m\u001b[0;34m\u001b[0m\u001b[0m\n\u001b[0m\u001b[1;32m    332\u001b[0m \u001b[0;34m\u001b[0m\u001b[0m\n\u001b[1;32m    333\u001b[0m         \u001b[0;31m# error: \"Callable[[VarArg(Any), KwArg(Any)], Any]\" has no\u001b[0m\u001b[0;34m\u001b[0m\u001b[0;34m\u001b[0m\u001b[0;34m\u001b[0m\u001b[0m\n",
      "\u001b[0;32m/usr/local/anaconda3/share/jupyter/venv/py3_comm318/lib/python3.8/site-packages/pandas/io/html.py\u001b[0m in \u001b[0;36mread_html\u001b[0;34m(io, match, flavor, header, index_col, skiprows, attrs, parse_dates, thousands, encoding, decimal, converters, na_values, keep_default_na, displayed_only, extract_links)\u001b[0m\n\u001b[1;32m   1203\u001b[0m     \u001b[0mio\u001b[0m \u001b[0;34m=\u001b[0m \u001b[0mstringify_path\u001b[0m\u001b[0;34m(\u001b[0m\u001b[0mio\u001b[0m\u001b[0;34m)\u001b[0m\u001b[0;34m\u001b[0m\u001b[0;34m\u001b[0m\u001b[0m\n\u001b[1;32m   1204\u001b[0m \u001b[0;34m\u001b[0m\u001b[0m\n\u001b[0;32m-> 1205\u001b[0;31m     return _parse(\n\u001b[0m\u001b[1;32m   1206\u001b[0m         \u001b[0mflavor\u001b[0m\u001b[0;34m=\u001b[0m\u001b[0mflavor\u001b[0m\u001b[0;34m,\u001b[0m\u001b[0;34m\u001b[0m\u001b[0;34m\u001b[0m\u001b[0m\n\u001b[1;32m   1207\u001b[0m         \u001b[0mio\u001b[0m\u001b[0;34m=\u001b[0m\u001b[0mio\u001b[0m\u001b[0;34m,\u001b[0m\u001b[0;34m\u001b[0m\u001b[0;34m\u001b[0m\u001b[0m\n",
      "\u001b[0;32m/usr/local/anaconda3/share/jupyter/venv/py3_comm318/lib/python3.8/site-packages/pandas/io/html.py\u001b[0m in \u001b[0;36m_parse\u001b[0;34m(flavor, io, match, attrs, encoding, displayed_only, extract_links, **kwargs)\u001b[0m\n\u001b[1;32m    980\u001b[0m     \u001b[0mretained\u001b[0m \u001b[0;34m=\u001b[0m \u001b[0;32mNone\u001b[0m\u001b[0;34m\u001b[0m\u001b[0;34m\u001b[0m\u001b[0m\n\u001b[1;32m    981\u001b[0m     \u001b[0;32mfor\u001b[0m \u001b[0mflav\u001b[0m \u001b[0;32min\u001b[0m \u001b[0mflavor\u001b[0m\u001b[0;34m:\u001b[0m\u001b[0;34m\u001b[0m\u001b[0;34m\u001b[0m\u001b[0m\n\u001b[0;32m--> 982\u001b[0;31m         \u001b[0mparser\u001b[0m \u001b[0;34m=\u001b[0m \u001b[0m_parser_dispatch\u001b[0m\u001b[0;34m(\u001b[0m\u001b[0mflav\u001b[0m\u001b[0;34m)\u001b[0m\u001b[0;34m\u001b[0m\u001b[0;34m\u001b[0m\u001b[0m\n\u001b[0m\u001b[1;32m    983\u001b[0m         \u001b[0mp\u001b[0m \u001b[0;34m=\u001b[0m \u001b[0mparser\u001b[0m\u001b[0;34m(\u001b[0m\u001b[0mio\u001b[0m\u001b[0;34m,\u001b[0m \u001b[0mcompiled_match\u001b[0m\u001b[0;34m,\u001b[0m \u001b[0mattrs\u001b[0m\u001b[0;34m,\u001b[0m \u001b[0mencoding\u001b[0m\u001b[0;34m,\u001b[0m \u001b[0mdisplayed_only\u001b[0m\u001b[0;34m,\u001b[0m \u001b[0mextract_links\u001b[0m\u001b[0;34m)\u001b[0m\u001b[0;34m\u001b[0m\u001b[0;34m\u001b[0m\u001b[0m\n\u001b[1;32m    984\u001b[0m \u001b[0;34m\u001b[0m\u001b[0m\n",
      "\u001b[0;32m/usr/local/anaconda3/share/jupyter/venv/py3_comm318/lib/python3.8/site-packages/pandas/io/html.py\u001b[0m in \u001b[0;36m_parser_dispatch\u001b[0;34m(flavor)\u001b[0m\n\u001b[1;32m    933\u001b[0m             \u001b[0;32mraise\u001b[0m \u001b[0mImportError\u001b[0m\u001b[0;34m(\u001b[0m\u001b[0;34m\"BeautifulSoup4 (bs4) not found, please install it\"\u001b[0m\u001b[0;34m)\u001b[0m\u001b[0;34m\u001b[0m\u001b[0;34m\u001b[0m\u001b[0m\n\u001b[1;32m    934\u001b[0m         \u001b[0;31m# Although we call this above, we want to raise here right before use.\u001b[0m\u001b[0;34m\u001b[0m\u001b[0;34m\u001b[0m\u001b[0;34m\u001b[0m\u001b[0m\n\u001b[0;32m--> 935\u001b[0;31m         \u001b[0mbs4\u001b[0m \u001b[0;34m=\u001b[0m \u001b[0mimport_optional_dependency\u001b[0m\u001b[0;34m(\u001b[0m\u001b[0;34m\"bs4\"\u001b[0m\u001b[0;34m)\u001b[0m  \u001b[0;31m# noqa:F841\u001b[0m\u001b[0;34m\u001b[0m\u001b[0;34m\u001b[0m\u001b[0m\n\u001b[0m\u001b[1;32m    936\u001b[0m \u001b[0;34m\u001b[0m\u001b[0m\n\u001b[1;32m    937\u001b[0m     \u001b[0;32melse\u001b[0m\u001b[0;34m:\u001b[0m\u001b[0;34m\u001b[0m\u001b[0;34m\u001b[0m\u001b[0m\n",
      "\u001b[0;32m/usr/local/anaconda3/share/jupyter/venv/py3_comm318/lib/python3.8/site-packages/pandas/compat/_optional.py\u001b[0m in \u001b[0;36mimport_optional_dependency\u001b[0;34m(name, extra, errors, min_version)\u001b[0m\n\u001b[1;32m    169\u001b[0m                 \u001b[0;32mreturn\u001b[0m \u001b[0;32mNone\u001b[0m\u001b[0;34m\u001b[0m\u001b[0;34m\u001b[0m\u001b[0m\n\u001b[1;32m    170\u001b[0m             \u001b[0;32melif\u001b[0m \u001b[0merrors\u001b[0m \u001b[0;34m==\u001b[0m \u001b[0;34m\"raise\"\u001b[0m\u001b[0;34m:\u001b[0m\u001b[0;34m\u001b[0m\u001b[0;34m\u001b[0m\u001b[0m\n\u001b[0;32m--> 171\u001b[0;31m                 \u001b[0;32mraise\u001b[0m \u001b[0mImportError\u001b[0m\u001b[0;34m(\u001b[0m\u001b[0mmsg\u001b[0m\u001b[0;34m)\u001b[0m\u001b[0;34m\u001b[0m\u001b[0;34m\u001b[0m\u001b[0m\n\u001b[0m\u001b[1;32m    172\u001b[0m \u001b[0;34m\u001b[0m\u001b[0m\n\u001b[1;32m    173\u001b[0m     \u001b[0;32mreturn\u001b[0m \u001b[0mmodule\u001b[0m\u001b[0;34m\u001b[0m\u001b[0;34m\u001b[0m\u001b[0m\n",
      "\u001b[0;31mImportError\u001b[0m: Pandas requires version '4.9.3' or newer of 'bs4' (version '4.8.2' currently installed)."
     ]
    }
   ],
   "source": [
    "tables = pd.read_html(Transition_points_url)"
   ]
  },
  {
   "cell_type": "code",
   "execution_count": null,
   "id": "c2f71dbd-cf33-41f0-90e4-bec5691706bf",
   "metadata": {
    "tags": []
   },
   "outputs": [],
   "source": [
    "URL2 = \"http://www.82games.com/2324/2324PHI1.HTM\""
   ]
  },
  {
   "cell_type": "code",
   "execution_count": null,
   "id": "8c5260aa-c3e7-41be-a309-7259b8f2207e",
   "metadata": {
    "tags": []
   },
   "outputs": [],
   "source": [
    "tables = pd.read_html(URL2)"
   ]
  },
  {
   "cell_type": "code",
   "execution_count": null,
   "id": "66314716-4c13-4c52-89a1-b13478261e4a",
   "metadata": {
    "tags": []
   },
   "outputs": [],
   "source": [
    "len(tables)"
   ]
  },
  {
   "cell_type": "code",
   "execution_count": null,
   "id": "aa841f2a-0c11-4dd7-8ca8-473becc5ab24",
   "metadata": {
    "tags": []
   },
   "outputs": [],
   "source": [
    "floortime = tables[2]\n",
    "floortime"
   ]
  },
  {
   "cell_type": "code",
   "execution_count": null,
   "id": "15f73759-2565-40a4-baaf-2ada826676f7",
   "metadata": {
    "tags": []
   },
   "outputs": [],
   "source": [
    "floortime.to_csv(\"../data/floortime.csv\", index=False)"
   ]
  },
  {
   "cell_type": "code",
   "execution_count": null,
   "id": "11f44134-40b0-48a4-b23b-36870356f304",
   "metadata": {
    "tags": []
   },
   "outputs": [],
   "source": [
    "URL3 = \"http://www.82games.com/2324/23PHI2.HTM\""
   ]
  },
  {
   "cell_type": "code",
   "execution_count": null,
   "id": "db7c613b-5ec0-413f-aa63-b89fd50b429f",
   "metadata": {
    "tags": []
   },
   "outputs": [],
   "source": [
    "tables2 = pd.read_html(URL3)"
   ]
  },
  {
   "cell_type": "code",
   "execution_count": null,
   "id": "d25cd295-8eda-4188-8be4-f74013bdab6c",
   "metadata": {
    "tags": []
   },
   "outputs": [],
   "source": [
    "len(tables2)"
   ]
  },
  {
   "cell_type": "code",
   "execution_count": null,
   "id": "b8b19b58-41a4-4221-bcdb-7d0f1fa950b8",
   "metadata": {
    "tags": []
   },
   "outputs": [],
   "source": [
    "five_man = tables2[12]\n",
    "five_man"
   ]
  },
  {
   "cell_type": "code",
   "execution_count": null,
   "id": "1d92b96a-d5c9-4c1c-860f-2b3fb9f4f006",
   "metadata": {
    "tags": []
   },
   "outputs": [],
   "source": [
    "five_man.to_csv(\"../data/five_man.csv\", index=False)"
   ]
  },
  {
   "cell_type": "code",
   "execution_count": 20,
   "id": "0cb64b25-89ad-4ccb-81fb-b72f786c427c",
   "metadata": {
    "tags": []
   },
   "outputs": [],
   "source": [
    "URL4 = \"https://www.nba.com/stats/teams/transition?SeasonYear=2023-24\""
   ]
  },
  {
   "cell_type": "code",
   "execution_count": 21,
   "id": "32c090d7-8057-49d6-ad80-1973dcb545c0",
   "metadata": {
    "tags": []
   },
   "outputs": [
    {
     "ename": "ImportError",
     "evalue": "Pandas requires version '4.9.3' or newer of 'bs4' (version '4.8.2' currently installed).",
     "output_type": "error",
     "traceback": [
      "\u001b[0;31m---------------------------------------------------------------------------\u001b[0m",
      "\u001b[0;31mImportError\u001b[0m                               Traceback (most recent call last)",
      "\u001b[0;32m/tmp/ipykernel_397630/2619261238.py\u001b[0m in \u001b[0;36m<module>\u001b[0;34m\u001b[0m\n\u001b[0;32m----> 1\u001b[0;31m \u001b[0mtables4\u001b[0m \u001b[0;34m=\u001b[0m \u001b[0mpd\u001b[0m\u001b[0;34m.\u001b[0m\u001b[0mread_html\u001b[0m\u001b[0;34m(\u001b[0m\u001b[0mURL4\u001b[0m\u001b[0;34m)\u001b[0m\u001b[0;34m\u001b[0m\u001b[0;34m\u001b[0m\u001b[0m\n\u001b[0m",
      "\u001b[0;32m/usr/local/anaconda3/share/jupyter/venv/py3_comm318/lib/python3.8/site-packages/pandas/util/_decorators.py\u001b[0m in \u001b[0;36mwrapper\u001b[0;34m(*args, **kwargs)\u001b[0m\n\u001b[1;32m    329\u001b[0m                     \u001b[0mstacklevel\u001b[0m\u001b[0;34m=\u001b[0m\u001b[0mfind_stack_level\u001b[0m\u001b[0;34m(\u001b[0m\u001b[0;34m)\u001b[0m\u001b[0;34m,\u001b[0m\u001b[0;34m\u001b[0m\u001b[0;34m\u001b[0m\u001b[0m\n\u001b[1;32m    330\u001b[0m                 )\n\u001b[0;32m--> 331\u001b[0;31m             \u001b[0;32mreturn\u001b[0m \u001b[0mfunc\u001b[0m\u001b[0;34m(\u001b[0m\u001b[0;34m*\u001b[0m\u001b[0margs\u001b[0m\u001b[0;34m,\u001b[0m \u001b[0;34m**\u001b[0m\u001b[0mkwargs\u001b[0m\u001b[0;34m)\u001b[0m\u001b[0;34m\u001b[0m\u001b[0;34m\u001b[0m\u001b[0m\n\u001b[0m\u001b[1;32m    332\u001b[0m \u001b[0;34m\u001b[0m\u001b[0m\n\u001b[1;32m    333\u001b[0m         \u001b[0;31m# error: \"Callable[[VarArg(Any), KwArg(Any)], Any]\" has no\u001b[0m\u001b[0;34m\u001b[0m\u001b[0;34m\u001b[0m\u001b[0;34m\u001b[0m\u001b[0m\n",
      "\u001b[0;32m/usr/local/anaconda3/share/jupyter/venv/py3_comm318/lib/python3.8/site-packages/pandas/io/html.py\u001b[0m in \u001b[0;36mread_html\u001b[0;34m(io, match, flavor, header, index_col, skiprows, attrs, parse_dates, thousands, encoding, decimal, converters, na_values, keep_default_na, displayed_only, extract_links)\u001b[0m\n\u001b[1;32m   1203\u001b[0m     \u001b[0mio\u001b[0m \u001b[0;34m=\u001b[0m \u001b[0mstringify_path\u001b[0m\u001b[0;34m(\u001b[0m\u001b[0mio\u001b[0m\u001b[0;34m)\u001b[0m\u001b[0;34m\u001b[0m\u001b[0;34m\u001b[0m\u001b[0m\n\u001b[1;32m   1204\u001b[0m \u001b[0;34m\u001b[0m\u001b[0m\n\u001b[0;32m-> 1205\u001b[0;31m     return _parse(\n\u001b[0m\u001b[1;32m   1206\u001b[0m         \u001b[0mflavor\u001b[0m\u001b[0;34m=\u001b[0m\u001b[0mflavor\u001b[0m\u001b[0;34m,\u001b[0m\u001b[0;34m\u001b[0m\u001b[0;34m\u001b[0m\u001b[0m\n\u001b[1;32m   1207\u001b[0m         \u001b[0mio\u001b[0m\u001b[0;34m=\u001b[0m\u001b[0mio\u001b[0m\u001b[0;34m,\u001b[0m\u001b[0;34m\u001b[0m\u001b[0;34m\u001b[0m\u001b[0m\n",
      "\u001b[0;32m/usr/local/anaconda3/share/jupyter/venv/py3_comm318/lib/python3.8/site-packages/pandas/io/html.py\u001b[0m in \u001b[0;36m_parse\u001b[0;34m(flavor, io, match, attrs, encoding, displayed_only, extract_links, **kwargs)\u001b[0m\n\u001b[1;32m    980\u001b[0m     \u001b[0mretained\u001b[0m \u001b[0;34m=\u001b[0m \u001b[0;32mNone\u001b[0m\u001b[0;34m\u001b[0m\u001b[0;34m\u001b[0m\u001b[0m\n\u001b[1;32m    981\u001b[0m     \u001b[0;32mfor\u001b[0m \u001b[0mflav\u001b[0m \u001b[0;32min\u001b[0m \u001b[0mflavor\u001b[0m\u001b[0;34m:\u001b[0m\u001b[0;34m\u001b[0m\u001b[0;34m\u001b[0m\u001b[0m\n\u001b[0;32m--> 982\u001b[0;31m         \u001b[0mparser\u001b[0m \u001b[0;34m=\u001b[0m \u001b[0m_parser_dispatch\u001b[0m\u001b[0;34m(\u001b[0m\u001b[0mflav\u001b[0m\u001b[0;34m)\u001b[0m\u001b[0;34m\u001b[0m\u001b[0;34m\u001b[0m\u001b[0m\n\u001b[0m\u001b[1;32m    983\u001b[0m         \u001b[0mp\u001b[0m \u001b[0;34m=\u001b[0m \u001b[0mparser\u001b[0m\u001b[0;34m(\u001b[0m\u001b[0mio\u001b[0m\u001b[0;34m,\u001b[0m \u001b[0mcompiled_match\u001b[0m\u001b[0;34m,\u001b[0m \u001b[0mattrs\u001b[0m\u001b[0;34m,\u001b[0m \u001b[0mencoding\u001b[0m\u001b[0;34m,\u001b[0m \u001b[0mdisplayed_only\u001b[0m\u001b[0;34m,\u001b[0m \u001b[0mextract_links\u001b[0m\u001b[0;34m)\u001b[0m\u001b[0;34m\u001b[0m\u001b[0;34m\u001b[0m\u001b[0m\n\u001b[1;32m    984\u001b[0m \u001b[0;34m\u001b[0m\u001b[0m\n",
      "\u001b[0;32m/usr/local/anaconda3/share/jupyter/venv/py3_comm318/lib/python3.8/site-packages/pandas/io/html.py\u001b[0m in \u001b[0;36m_parser_dispatch\u001b[0;34m(flavor)\u001b[0m\n\u001b[1;32m    933\u001b[0m             \u001b[0;32mraise\u001b[0m \u001b[0mImportError\u001b[0m\u001b[0;34m(\u001b[0m\u001b[0;34m\"BeautifulSoup4 (bs4) not found, please install it\"\u001b[0m\u001b[0;34m)\u001b[0m\u001b[0;34m\u001b[0m\u001b[0;34m\u001b[0m\u001b[0m\n\u001b[1;32m    934\u001b[0m         \u001b[0;31m# Although we call this above, we want to raise here right before use.\u001b[0m\u001b[0;34m\u001b[0m\u001b[0;34m\u001b[0m\u001b[0;34m\u001b[0m\u001b[0m\n\u001b[0;32m--> 935\u001b[0;31m         \u001b[0mbs4\u001b[0m \u001b[0;34m=\u001b[0m \u001b[0mimport_optional_dependency\u001b[0m\u001b[0;34m(\u001b[0m\u001b[0;34m\"bs4\"\u001b[0m\u001b[0;34m)\u001b[0m  \u001b[0;31m# noqa:F841\u001b[0m\u001b[0;34m\u001b[0m\u001b[0;34m\u001b[0m\u001b[0m\n\u001b[0m\u001b[1;32m    936\u001b[0m \u001b[0;34m\u001b[0m\u001b[0m\n\u001b[1;32m    937\u001b[0m     \u001b[0;32melse\u001b[0m\u001b[0;34m:\u001b[0m\u001b[0;34m\u001b[0m\u001b[0;34m\u001b[0m\u001b[0m\n",
      "\u001b[0;32m/usr/local/anaconda3/share/jupyter/venv/py3_comm318/lib/python3.8/site-packages/pandas/compat/_optional.py\u001b[0m in \u001b[0;36mimport_optional_dependency\u001b[0;34m(name, extra, errors, min_version)\u001b[0m\n\u001b[1;32m    169\u001b[0m                 \u001b[0;32mreturn\u001b[0m \u001b[0;32mNone\u001b[0m\u001b[0;34m\u001b[0m\u001b[0;34m\u001b[0m\u001b[0m\n\u001b[1;32m    170\u001b[0m             \u001b[0;32melif\u001b[0m \u001b[0merrors\u001b[0m \u001b[0;34m==\u001b[0m \u001b[0;34m\"raise\"\u001b[0m\u001b[0;34m:\u001b[0m\u001b[0;34m\u001b[0m\u001b[0;34m\u001b[0m\u001b[0m\n\u001b[0;32m--> 171\u001b[0;31m                 \u001b[0;32mraise\u001b[0m \u001b[0mImportError\u001b[0m\u001b[0;34m(\u001b[0m\u001b[0mmsg\u001b[0m\u001b[0;34m)\u001b[0m\u001b[0;34m\u001b[0m\u001b[0;34m\u001b[0m\u001b[0m\n\u001b[0m\u001b[1;32m    172\u001b[0m \u001b[0;34m\u001b[0m\u001b[0m\n\u001b[1;32m    173\u001b[0m     \u001b[0;32mreturn\u001b[0m \u001b[0mmodule\u001b[0m\u001b[0;34m\u001b[0m\u001b[0;34m\u001b[0m\u001b[0m\n",
      "\u001b[0;31mImportError\u001b[0m: Pandas requires version '4.9.3' or newer of 'bs4' (version '4.8.2' currently installed)."
     ]
    }
   ],
   "source": []
  },
  {
   "cell_type": "code",
   "execution_count": null,
   "id": "1e93d2f5-43bf-42de-b007-ecc2af3c6bc5",
   "metadata": {
    "tags": []
   },
   "outputs": [],
   "source": [
    "tables4[0]"
   ]
  }
 ],
 "metadata": {
  "citation-manager": {
   "items": {}
  },
  "kernelspec": {
   "display_name": "Python 3.8",
   "language": "python",
   "name": "python3"
  },
  "language_info": {
   "codemirror_mode": {
    "name": "ipython",
    "version": 3
   },
   "file_extension": ".py",
   "mimetype": "text/x-python",
   "name": "python",
   "nbconvert_exporter": "python",
   "pygments_lexer": "ipython3",
   "version": "3.8.8"
  }
 },
 "nbformat": 4,
 "nbformat_minor": 5
}
