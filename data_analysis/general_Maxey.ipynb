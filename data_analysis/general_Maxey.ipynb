{
 "cells": [
  {
   "cell_type": "markdown",
   "id": "a696c6d0-00e6-469b-9100-8a9cdff68e9e",
   "metadata": {},
   "source": [
    "# A General Impression of Tyrese Maxey"
   ]
  },
  {
   "cell_type": "markdown",
   "id": "796a4693-8a78-4309-9641-2bb7fe1afdae",
   "metadata": {},
   "source": [
    "### Overview"
   ]
  },
  {
   "cell_type": "markdown",
   "id": "c37fe2d9-2aa1-4f6b-96cd-820dc99787ba",
   "metadata": {},
   "source": [
    "* This notebook involves the basic data and advanced data of Tyrese Maxey in his whole career and all players in season 23-24, involving datasets:\n",
    "    1. per_game.csv: the basic data of Tyrese Maxey from season 20-21 to 23-24\n",
    "    2. advanced.csv: the advanced data of Tyrese Maxey from seaon 20-21 to 23-24\n",
    "    3. college_per_game.csv: the basic data of Tyrese Maxey in college\n",
    "    4. college_advanced.csv: the advanced Tyrese Maxey in college\n",
    "    5. per_game_all.csv: the basic data all players in NBA in season 23-24\n",
    "    6. advanced_all.csv: the advanced data of all players in NBA in season 23-24\n",
    "    7. BPM_all.csv: the plus+/minus- data of all players in NBA in season 23-24"
   ]
  },
  {
   "cell_type": "code",
   "execution_count": 2,
   "id": "4cfc0b13-6bb9-4d13-a1fc-b21572bd7ce2",
   "metadata": {
    "tags": []
   },
   "outputs": [],
   "source": [
    "import pandas as pd\n",
    "import matplotlib.pyplot as plt"
   ]
  },
  {
   "cell_type": "code",
   "execution_count": 3,
   "id": "80a25a36-7134-47c7-97da-ccaadc6938c0",
   "metadata": {
    "tags": []
   },
   "outputs": [
    {
     "data": {
      "text/html": [
       "<div>\n",
       "<style scoped>\n",
       "    .dataframe tbody tr th:only-of-type {\n",
       "        vertical-align: middle;\n",
       "    }\n",
       "\n",
       "    .dataframe tbody tr th {\n",
       "        vertical-align: top;\n",
       "    }\n",
       "\n",
       "    .dataframe thead th {\n",
       "        text-align: right;\n",
       "    }\n",
       "</style>\n",
       "<table border=\"1\" class=\"dataframe\">\n",
       "  <thead>\n",
       "    <tr style=\"text-align: right;\">\n",
       "      <th></th>\n",
       "      <th>Season</th>\n",
       "      <th>Age</th>\n",
       "      <th>Tm</th>\n",
       "      <th>Lg</th>\n",
       "      <th>Pos</th>\n",
       "      <th>G</th>\n",
       "      <th>GS</th>\n",
       "      <th>MP</th>\n",
       "      <th>FG</th>\n",
       "      <th>FGA</th>\n",
       "      <th>...</th>\n",
       "      <th>FT%</th>\n",
       "      <th>ORB</th>\n",
       "      <th>DRB</th>\n",
       "      <th>TRB</th>\n",
       "      <th>AST</th>\n",
       "      <th>STL</th>\n",
       "      <th>BLK</th>\n",
       "      <th>TOV</th>\n",
       "      <th>PF</th>\n",
       "      <th>PTS</th>\n",
       "    </tr>\n",
       "  </thead>\n",
       "  <tbody>\n",
       "    <tr>\n",
       "      <th>0</th>\n",
       "      <td>2020-21</td>\n",
       "      <td>20.0</td>\n",
       "      <td>PHI</td>\n",
       "      <td>NBA</td>\n",
       "      <td>SG</td>\n",
       "      <td>61</td>\n",
       "      <td>8</td>\n",
       "      <td>15.3</td>\n",
       "      <td>3.2</td>\n",
       "      <td>7.0</td>\n",
       "      <td>...</td>\n",
       "      <td>0.871</td>\n",
       "      <td>0.2</td>\n",
       "      <td>1.5</td>\n",
       "      <td>1.7</td>\n",
       "      <td>2.0</td>\n",
       "      <td>0.4</td>\n",
       "      <td>0.2</td>\n",
       "      <td>0.7</td>\n",
       "      <td>1.3</td>\n",
       "      <td>8.0</td>\n",
       "    </tr>\n",
       "    <tr>\n",
       "      <th>1</th>\n",
       "      <td>2021-22</td>\n",
       "      <td>21.0</td>\n",
       "      <td>PHI</td>\n",
       "      <td>NBA</td>\n",
       "      <td>PG</td>\n",
       "      <td>75</td>\n",
       "      <td>74</td>\n",
       "      <td>35.3</td>\n",
       "      <td>6.4</td>\n",
       "      <td>13.3</td>\n",
       "      <td>...</td>\n",
       "      <td>0.866</td>\n",
       "      <td>0.3</td>\n",
       "      <td>2.9</td>\n",
       "      <td>3.2</td>\n",
       "      <td>4.3</td>\n",
       "      <td>0.7</td>\n",
       "      <td>0.4</td>\n",
       "      <td>1.2</td>\n",
       "      <td>2.1</td>\n",
       "      <td>17.5</td>\n",
       "    </tr>\n",
       "    <tr>\n",
       "      <th>2</th>\n",
       "      <td>2022-23</td>\n",
       "      <td>22.0</td>\n",
       "      <td>PHI</td>\n",
       "      <td>NBA</td>\n",
       "      <td>SG</td>\n",
       "      <td>60</td>\n",
       "      <td>41</td>\n",
       "      <td>33.6</td>\n",
       "      <td>7.3</td>\n",
       "      <td>15.2</td>\n",
       "      <td>...</td>\n",
       "      <td>0.845</td>\n",
       "      <td>0.4</td>\n",
       "      <td>2.6</td>\n",
       "      <td>2.9</td>\n",
       "      <td>3.5</td>\n",
       "      <td>0.8</td>\n",
       "      <td>0.1</td>\n",
       "      <td>1.3</td>\n",
       "      <td>2.2</td>\n",
       "      <td>20.3</td>\n",
       "    </tr>\n",
       "    <tr>\n",
       "      <th>3</th>\n",
       "      <td>2023-24</td>\n",
       "      <td>23.0</td>\n",
       "      <td>PHI</td>\n",
       "      <td>NBA</td>\n",
       "      <td>PG</td>\n",
       "      <td>18</td>\n",
       "      <td>18</td>\n",
       "      <td>38.4</td>\n",
       "      <td>9.4</td>\n",
       "      <td>20.2</td>\n",
       "      <td>...</td>\n",
       "      <td>0.899</td>\n",
       "      <td>0.7</td>\n",
       "      <td>3.9</td>\n",
       "      <td>4.6</td>\n",
       "      <td>6.7</td>\n",
       "      <td>0.8</td>\n",
       "      <td>0.7</td>\n",
       "      <td>1.6</td>\n",
       "      <td>1.9</td>\n",
       "      <td>27.0</td>\n",
       "    </tr>\n",
       "    <tr>\n",
       "      <th>4</th>\n",
       "      <td>Career</td>\n",
       "      <td>NaN</td>\n",
       "      <td>NaN</td>\n",
       "      <td>NBA</td>\n",
       "      <td>NaN</td>\n",
       "      <td>214</td>\n",
       "      <td>141</td>\n",
       "      <td>29.4</td>\n",
       "      <td>6.0</td>\n",
       "      <td>12.6</td>\n",
       "      <td>...</td>\n",
       "      <td>0.865</td>\n",
       "      <td>0.3</td>\n",
       "      <td>2.5</td>\n",
       "      <td>2.8</td>\n",
       "      <td>3.6</td>\n",
       "      <td>0.7</td>\n",
       "      <td>0.3</td>\n",
       "      <td>1.1</td>\n",
       "      <td>1.9</td>\n",
       "      <td>16.4</td>\n",
       "    </tr>\n",
       "  </tbody>\n",
       "</table>\n",
       "<p>5 rows × 30 columns</p>\n",
       "</div>"
      ],
      "text/plain": [
       "    Season   Age   Tm   Lg  Pos    G   GS    MP   FG   FGA  ...    FT%  ORB  \\\n",
       "0  2020-21  20.0  PHI  NBA   SG   61    8  15.3  3.2   7.0  ...  0.871  0.2   \n",
       "1  2021-22  21.0  PHI  NBA   PG   75   74  35.3  6.4  13.3  ...  0.866  0.3   \n",
       "2  2022-23  22.0  PHI  NBA   SG   60   41  33.6  7.3  15.2  ...  0.845  0.4   \n",
       "3  2023-24  23.0  PHI  NBA   PG   18   18  38.4  9.4  20.2  ...  0.899  0.7   \n",
       "4   Career   NaN  NaN  NBA  NaN  214  141  29.4  6.0  12.6  ...  0.865  0.3   \n",
       "\n",
       "   DRB  TRB  AST  STL  BLK  TOV   PF   PTS  \n",
       "0  1.5  1.7  2.0  0.4  0.2  0.7  1.3   8.0  \n",
       "1  2.9  3.2  4.3  0.7  0.4  1.2  2.1  17.5  \n",
       "2  2.6  2.9  3.5  0.8  0.1  1.3  2.2  20.3  \n",
       "3  3.9  4.6  6.7  0.8  0.7  1.6  1.9  27.0  \n",
       "4  2.5  2.8  3.6  0.7  0.3  1.1  1.9  16.4  \n",
       "\n",
       "[5 rows x 30 columns]"
      ]
     },
     "execution_count": 3,
     "metadata": {},
     "output_type": "execute_result"
    }
   ],
   "source": [
    "# The basic data of Maxey in his whole career\n",
    "per_game = pd.read_csv('../data/per_game.csv')\n",
    "per_game"
   ]
  },
  {
   "cell_type": "markdown",
   "id": "f80959eb-9492-4109-bac1-a3f5b7a91675",
   "metadata": {},
   "source": [
    "* Glossary:\n",
    "1. Season -- If listed as single number, the year the season ended.\n",
    "2. Age -- Player's age on February 1 of the season\n",
    "3. Tm -- Team\n",
    "4. Lg -- League\n",
    "5. Pos -- Position\n",
    "6. G -- Games\n",
    "7. GS -- Games Started\n",
    "8. MP -- Minutes Played Per Game\n",
    "9. FG -- Field Goals Per Game\n",
    "10. FGA -- Field Goal Attempts Per Game\n",
    "11. FG% -- Field Goal Percentage\n",
    "12. 3P -- 3-Point Field Goals Per Game\n",
    "13. 3PA -- 3-Point Field Goal Attempts Per Game\n",
    "14. 3P% -- 3-Point Field Goal Percentage\n",
    "15. 2P -- 2-Point Field Goals Per Game\n",
    "16. 2PA -- 2-Point Field Goal Attempts Per Game\n",
    "17. 2P% -- 2-Point Field Goal Percentage\n",
    "18. eFG% -- Effective Field Goal Percentage\n",
    "19. This statistic adjusts for the fact that a 3-point field goal is worth one more point than a 2-point field goal.\n",
    "20. FT -- Free Throws Per Game\n",
    "21. FTA -- Free Throw Attempts Per Game\n",
    "22. FT% -- Free Throw Percentage\n",
    "23. ORB -- Offensive Rebounds Per Game\n",
    "24. DRB -- Defensive Rebounds Per Game\n",
    "25. TRB -- Total Rebounds Per Game\n",
    "26. AST -- Assists Per Game\n",
    "27. STL -- Steals Per Game\n",
    "28. BLK -- Blocks Per Game\n",
    "29. TOV -- Turnovers Per Game\n",
    "30. PF -- Personal Fouls Per Game\n",
    "31. PTS -- Points Per Game"
   ]
  },
  {
   "cell_type": "code",
   "execution_count": 25,
   "id": "28290783-9756-4fc8-bd96-7d53ad8ff377",
   "metadata": {},
   "outputs": [
    {
     "data": {
      "image/png": "[encoded data removed]",
      "text/plain": [
       "<Figure size 864x288 with 2 Axes>"
      ]
     },
     "metadata": {
      "needs_background": "light"
     },
     "output_type": "display_data"
    }
   ],
   "source": [
    "# Let's look at the some important offenfive data trends\n",
    "fig, axs = plt.subplots(1, 2, figsize=(12, 4))\n",
    "# the first subplot\n",
    "axs[0].plot(per_game['Season'][:-1], per_game['PTS'][:-1], marker='o')\n",
    "axs[0].set_title('Points per Game in Seasons')\n",
    "axs[0].set_xlabel('Season')\n",
    "axs[0].set_ylabel('Points per Game')\n",
    "axs[0].axhline(y=per_game['PTS'].iloc[-1], linestyle='--', color='gray', label='Career Avg')\n",
    "axs[0].legend()\n",
    "\n",
    "# the second subplot\n",
    "axs[1].plot(per_game['Season'][:-1], per_game['AST'][:-1], marker='x')\n",
    "axs[1].set_title('Assists per Game in Seasons')\n",
    "axs[1].set_xlabel('Season')\n",
    "axs[1].set_ylabel('Assists per Game')\n",
    "axs[1].axhline(y=per_game['AST'].iloc[-1], linestyle='--', color='gray', label='Career Avg')\n",
    "axs[1].legend()\n",
    "\n",
    "plt.tight_layout()\n",
    "plt.show()"
   ]
  },
  {
   "cell_type": "code",
   "execution_count": 19,
   "id": "5274383b-fca3-4319-96b7-f1e05cf5fa4e",
   "metadata": {
    "tags": []
   },
   "outputs": [
    {
     "data": {
      "text/html": [
       "<div>\n",
       "<style scoped>\n",
       "    .dataframe tbody tr th:only-of-type {\n",
       "        vertical-align: middle;\n",
       "    }\n",
       "\n",
       "    .dataframe tbody tr th {\n",
       "        vertical-align: top;\n",
       "    }\n",
       "\n",
       "    .dataframe thead th {\n",
       "        text-align: right;\n",
       "    }\n",
       "</style>\n",
       "<table border=\"1\" class=\"dataframe\">\n",
       "  <thead>\n",
       "    <tr style=\"text-align: right;\">\n",
       "      <th></th>\n",
       "      <th>Season</th>\n",
       "      <th>PTS</th>\n",
       "      <th>AST</th>\n",
       "    </tr>\n",
       "  </thead>\n",
       "  <tbody>\n",
       "    <tr>\n",
       "      <th>0</th>\n",
       "      <td>2020-21</td>\n",
       "      <td>8.0</td>\n",
       "      <td>2.0</td>\n",
       "    </tr>\n",
       "    <tr>\n",
       "      <th>1</th>\n",
       "      <td>2021-22</td>\n",
       "      <td>17.5</td>\n",
       "      <td>4.3</td>\n",
       "    </tr>\n",
       "    <tr>\n",
       "      <th>2</th>\n",
       "      <td>2022-23</td>\n",
       "      <td>20.3</td>\n",
       "      <td>3.5</td>\n",
       "    </tr>\n",
       "    <tr>\n",
       "      <th>3</th>\n",
       "      <td>2023-24</td>\n",
       "      <td>27.0</td>\n",
       "      <td>6.7</td>\n",
       "    </tr>\n",
       "    <tr>\n",
       "      <th>4</th>\n",
       "      <td>Career</td>\n",
       "      <td>16.4</td>\n",
       "      <td>3.6</td>\n",
       "    </tr>\n",
       "  </tbody>\n",
       "</table>\n",
       "</div>"
      ],
      "text/plain": [
       "    Season   PTS  AST\n",
       "0  2020-21   8.0  2.0\n",
       "1  2021-22  17.5  4.3\n",
       "2  2022-23  20.3  3.5\n",
       "3  2023-24  27.0  6.7\n",
       "4   Career  16.4  3.6"
      ]
     },
     "execution_count": 19,
     "metadata": {},
     "output_type": "execute_result"
    }
   ],
   "source": [
    "per_game[['Season', 'PTS', 'AST']]"
   ]
  },
  {
   "cell_type": "markdown",
   "id": "46221d63-43ae-492c-aa28-4d0c4473c6e5",
   "metadata": {},
   "source": [
    "Generally, Maxey has been increasing his points per game every season, and this season he has significant progress in both points and assists."
   ]
  },
  {
   "cell_type": "code",
   "execution_count": 73,
   "id": "613de743-e6f1-4d48-9fa4-fd6d8c7a4218",
   "metadata": {},
   "outputs": [],
   "source": [
    "# Comparisons with other players\n",
    "per_game_all=pd.read_csv('../data/per_game_all.csv')\n",
    "# Create a filter that has only players who play over 30 min per game\n",
    "over_30min=per_game_all[per_game_all['MP'] >= 30].reset_index(drop=True)"
   ]
  },
  {
   "cell_type": "code",
   "execution_count": 74,
   "id": "af127be9-9405-4d1f-a079-2228f8e23439",
   "metadata": {
    "tags": []
   },
   "outputs": [
    {
     "data": {
      "image/png": "[encoded data removed]",
      "text/plain": [
       "<Figure size 432x288 with 1 Axes>"
      ]
     },
     "metadata": {
      "needs_background": "light"
     },
     "output_type": "display_data"
    }
   ],
   "source": [
    "plt.scatter(over_30min['PTS'], over_30min['AST'])\n",
    "plt.scatter(per_game_all['PTS'].iloc[per_game_all[per_game_all['Player'] == 'Tyrese Maxey'].index[0]], per_game_all['AST'].iloc[per_game_all[per_game_all['Player'] == 'Tyrese Maxey'].index[0]], color='red', label='Tyrese Maxey', marker='o')\n",
    "plt.title('Points and Assists per Game of Players Who Play Over 30 min')\n",
    "plt.xlabel('Points per Game')\n",
    "plt.ylabel('Assists per Game')\n",
    "plt.legend()\n",
    "plt.grid(True)\n",
    "plt.show()"
   ]
  },
  {
   "cell_type": "code",
   "execution_count": 77,
   "id": "1f09c0e8-2cff-4cef-9778-cc79aac8143a",
   "metadata": {
    "tags": []
   },
   "outputs": [
    {
     "data": {
      "text/html": [
       "<div>\n",
       "<style scoped>\n",
       "    .dataframe tbody tr th:only-of-type {\n",
       "        vertical-align: middle;\n",
       "    }\n",
       "\n",
       "    .dataframe tbody tr th {\n",
       "        vertical-align: top;\n",
       "    }\n",
       "\n",
       "    .dataframe thead th {\n",
       "        text-align: right;\n",
       "    }\n",
       "</style>\n",
       "<table border=\"1\" class=\"dataframe\">\n",
       "  <thead>\n",
       "    <tr style=\"text-align: right;\">\n",
       "      <th></th>\n",
       "      <th>Rk</th>\n",
       "      <th>Player</th>\n",
       "      <th>Pos</th>\n",
       "      <th>Age</th>\n",
       "      <th>Tm</th>\n",
       "      <th>G</th>\n",
       "      <th>GS</th>\n",
       "      <th>MP</th>\n",
       "      <th>FG</th>\n",
       "      <th>FGA</th>\n",
       "      <th>...</th>\n",
       "      <th>FT%</th>\n",
       "      <th>ORB</th>\n",
       "      <th>DRB</th>\n",
       "      <th>TRB</th>\n",
       "      <th>AST</th>\n",
       "      <th>STL</th>\n",
       "      <th>BLK</th>\n",
       "      <th>TOV</th>\n",
       "      <th>PF</th>\n",
       "      <th>PTS</th>\n",
       "    </tr>\n",
       "  </thead>\n",
       "  <tbody>\n",
       "    <tr>\n",
       "      <th>6</th>\n",
       "      <td>7.0</td>\n",
       "      <td>Trae Young</td>\n",
       "      <td>PG</td>\n",
       "      <td>25.0</td>\n",
       "      <td>ATL</td>\n",
       "      <td>18.0</td>\n",
       "      <td>18.0</td>\n",
       "      <td>36.0</td>\n",
       "      <td>8.1</td>\n",
       "      <td>19.8</td>\n",
       "      <td>...</td>\n",
       "      <td>0.864</td>\n",
       "      <td>0.7</td>\n",
       "      <td>2.2</td>\n",
       "      <td>2.9</td>\n",
       "      <td>10.7</td>\n",
       "      <td>1.6</td>\n",
       "      <td>0.0</td>\n",
       "      <td>3.8</td>\n",
       "      <td>1.5</td>\n",
       "      <td>27.1</td>\n",
       "    </tr>\n",
       "    <tr>\n",
       "      <th>7</th>\n",
       "      <td>8.0</td>\n",
       "      <td>Luka Dončić</td>\n",
       "      <td>PG</td>\n",
       "      <td>24.0</td>\n",
       "      <td>DAL</td>\n",
       "      <td>18.0</td>\n",
       "      <td>18.0</td>\n",
       "      <td>35.8</td>\n",
       "      <td>10.8</td>\n",
       "      <td>22.0</td>\n",
       "      <td>...</td>\n",
       "      <td>0.761</td>\n",
       "      <td>0.7</td>\n",
       "      <td>7.7</td>\n",
       "      <td>8.4</td>\n",
       "      <td>8.4</td>\n",
       "      <td>1.3</td>\n",
       "      <td>0.5</td>\n",
       "      <td>3.8</td>\n",
       "      <td>1.8</td>\n",
       "      <td>31.4</td>\n",
       "    </tr>\n",
       "    <tr>\n",
       "      <th>36</th>\n",
       "      <td>37.0</td>\n",
       "      <td>Nikola Jokić</td>\n",
       "      <td>C</td>\n",
       "      <td>28.0</td>\n",
       "      <td>DEN</td>\n",
       "      <td>20.0</td>\n",
       "      <td>20.0</td>\n",
       "      <td>34.1</td>\n",
       "      <td>11.4</td>\n",
       "      <td>20.0</td>\n",
       "      <td>...</td>\n",
       "      <td>0.781</td>\n",
       "      <td>3.3</td>\n",
       "      <td>9.5</td>\n",
       "      <td>12.8</td>\n",
       "      <td>9.8</td>\n",
       "      <td>1.2</td>\n",
       "      <td>0.8</td>\n",
       "      <td>2.9</td>\n",
       "      <td>2.6</td>\n",
       "      <td>29.0</td>\n",
       "    </tr>\n",
       "  </tbody>\n",
       "</table>\n",
       "<p>3 rows × 30 columns</p>\n",
       "</div>"
      ],
      "text/plain": [
       "      Rk        Player Pos   Age   Tm     G    GS    MP    FG   FGA  ...  \\\n",
       "6    7.0    Trae Young  PG  25.0  ATL  18.0  18.0  36.0   8.1  19.8  ...   \n",
       "7    8.0   Luka Dončić  PG  24.0  DAL  18.0  18.0  35.8  10.8  22.0  ...   \n",
       "36  37.0  Nikola Jokić   C  28.0  DEN  20.0  20.0  34.1  11.4  20.0  ...   \n",
       "\n",
       "      FT%  ORB  DRB   TRB   AST  STL  BLK  TOV   PF   PTS  \n",
       "6   0.864  0.7  2.2   2.9  10.7  1.6  0.0  3.8  1.5  27.1  \n",
       "7   0.761  0.7  7.7   8.4   8.4  1.3  0.5  3.8  1.8  31.4  \n",
       "36  0.781  3.3  9.5  12.8   9.8  1.2  0.8  2.9  2.6  29.0  \n",
       "\n",
       "[3 rows x 30 columns]"
      ]
     },
     "execution_count": 77,
     "metadata": {},
     "output_type": "execute_result"
    }
   ],
   "source": [
    "per_game_all[(per_game_all['PTS']>27.0) & (per_game_all['AST']>6.7)]"
   ]
  },
  {
   "cell_type": "markdown",
   "id": "47d3152c-69f7-4016-b769-f65ee9fb9e76",
   "metadata": {},
   "source": [
    "As a second leader of a team, his performance both in points and assists is high-level in the league. Only three players have higher data than Maxey both in PTS and AST, Trae Young, Luka Doncic and Nikola Jokic, and all of them are the first leader of their teams."
   ]
  },
  {
   "cell_type": "code",
   "execution_count": 80,
   "id": "bdcfcbbf-75b1-4f27-bf05-ad34a07e2250",
   "metadata": {
    "tags": []
   },
   "outputs": [
    {
     "data": {
      "text/html": [
       "<div>\n",
       "<style scoped>\n",
       "    .dataframe tbody tr th:only-of-type {\n",
       "        vertical-align: middle;\n",
       "    }\n",
       "\n",
       "    .dataframe tbody tr th {\n",
       "        vertical-align: top;\n",
       "    }\n",
       "\n",
       "    .dataframe thead th {\n",
       "        text-align: right;\n",
       "    }\n",
       "</style>\n",
       "<table border=\"1\" class=\"dataframe\">\n",
       "  <thead>\n",
       "    <tr style=\"text-align: right;\">\n",
       "      <th></th>\n",
       "      <th>Season</th>\n",
       "      <th>FGA</th>\n",
       "      <th>FG%</th>\n",
       "    </tr>\n",
       "  </thead>\n",
       "  <tbody>\n",
       "    <tr>\n",
       "      <th>0</th>\n",
       "      <td>2020-21</td>\n",
       "      <td>7.0</td>\n",
       "      <td>0.462</td>\n",
       "    </tr>\n",
       "    <tr>\n",
       "      <th>1</th>\n",
       "      <td>2021-22</td>\n",
       "      <td>13.3</td>\n",
       "      <td>0.485</td>\n",
       "    </tr>\n",
       "    <tr>\n",
       "      <th>2</th>\n",
       "      <td>2022-23</td>\n",
       "      <td>15.2</td>\n",
       "      <td>0.481</td>\n",
       "    </tr>\n",
       "    <tr>\n",
       "      <th>3</th>\n",
       "      <td>2023-24</td>\n",
       "      <td>20.2</td>\n",
       "      <td>0.464</td>\n",
       "    </tr>\n",
       "    <tr>\n",
       "      <th>4</th>\n",
       "      <td>Career</td>\n",
       "      <td>12.6</td>\n",
       "      <td>0.477</td>\n",
       "    </tr>\n",
       "  </tbody>\n",
       "</table>\n",
       "</div>"
      ],
      "text/plain": [
       "    Season   FGA    FG%\n",
       "0  2020-21   7.0  0.462\n",
       "1  2021-22  13.3  0.485\n",
       "2  2022-23  15.2  0.481\n",
       "3  2023-24  20.2  0.464\n",
       "4   Career  12.6  0.477"
      ]
     },
     "execution_count": 80,
     "metadata": {},
     "output_type": "execute_result"
    }
   ],
   "source": [
    "# Let's see the productivity and effiency of Maxey\n",
    "per_game[['Season', 'FGA', 'FG%']]"
   ]
  },
  {
   "cell_type": "code",
   "execution_count": 79,
   "id": "6c8ec020-75ce-4a6c-bbab-5b9d20c1bc02",
   "metadata": {
    "tags": []
   },
   "outputs": [
    {
     "data": {
      "image/png": "[encoded data removed]",
      "text/plain": [
       "<Figure size 864x288 with 2 Axes>"
      ]
     },
     "metadata": {
      "needs_background": "light"
     },
     "output_type": "display_data"
    }
   ],
   "source": [
    "fig, axs = plt.subplots(1, 2, figsize=(12, 4))\n",
    "# the first subplot\n",
    "axs[0].plot(per_game['Season'][:-1], per_game['FGA'][:-1], marker='o')\n",
    "axs[0].set_title('Field Goal Attempts in Seasons')\n",
    "axs[0].set_xlabel('Season')\n",
    "axs[0].set_ylabel('FGA per Game')\n",
    "axs[0].axhline(y=per_game['FGA'].iloc[-1], linestyle='--', color='gray', label='Career Avg')\n",
    "axs[0].legend()\n",
    "\n",
    "# the second subplot\n",
    "axs[1].plot(per_game['Season'][:-1], per_game['FG%'][:-1], marker='x')\n",
    "axs[1].set_title('Field Goal rates in Seasons')\n",
    "axs[1].set_xlabel('Season')\n",
    "axs[1].set_ylabel('FG% per Game')\n",
    "axs[1].axhline(y=per_game['FG%'].iloc[-1], linestyle='--', color='gray', label='Career Avg')\n",
    "axs[1].legend()\n",
    "\n",
    "plt.tight_layout()\n",
    "plt.show()"
   ]
  },
  {
   "cell_type": "markdown",
   "id": "3ac942c7-79e2-4ed8-b472-2cfda2cd961d",
   "metadata": {},
   "source": [
    "Naturally, the more field goal attempts a player takes, the lower rate he has due to decreased physical strength and tougher defense he faces. Considering this, Maxey's field goal rate is still acceptable this season. Furthermore, we need to find out if the rate is influenced by more 3-pointer attempts he makes, because the farther field goal attempts are made, the lower rates will be."
   ]
  },
  {
   "cell_type": "code",
   "execution_count": 27,
   "id": "6b590edc-bb02-4546-a44b-cd01d2fe343a",
   "metadata": {
    "tags": []
   },
   "outputs": [
    {
     "data": {
      "text/html": [
       "<div>\n",
       "<style scoped>\n",
       "    .dataframe tbody tr th:only-of-type {\n",
       "        vertical-align: middle;\n",
       "    }\n",
       "\n",
       "    .dataframe tbody tr th {\n",
       "        vertical-align: top;\n",
       "    }\n",
       "\n",
       "    .dataframe thead th {\n",
       "        text-align: right;\n",
       "    }\n",
       "</style>\n",
       "<table border=\"1\" class=\"dataframe\">\n",
       "  <thead>\n",
       "    <tr style=\"text-align: right;\">\n",
       "      <th></th>\n",
       "      <th>Season</th>\n",
       "      <th>Age</th>\n",
       "      <th>Tm</th>\n",
       "      <th>Lg</th>\n",
       "      <th>Pos</th>\n",
       "      <th>G</th>\n",
       "      <th>MP</th>\n",
       "      <th>PER</th>\n",
       "      <th>TS%</th>\n",
       "      <th>3PAr</th>\n",
       "      <th>...</th>\n",
       "      <th>Unnamed: 19</th>\n",
       "      <th>OWS</th>\n",
       "      <th>DWS</th>\n",
       "      <th>WS</th>\n",
       "      <th>WS/48</th>\n",
       "      <th>Unnamed: 24</th>\n",
       "      <th>OBPM</th>\n",
       "      <th>DBPM</th>\n",
       "      <th>BPM</th>\n",
       "      <th>VORP</th>\n",
       "    </tr>\n",
       "  </thead>\n",
       "  <tbody>\n",
       "    <tr>\n",
       "      <th>0</th>\n",
       "      <td>2020-21</td>\n",
       "      <td>20.0</td>\n",
       "      <td>PHI</td>\n",
       "      <td>NBA</td>\n",
       "      <td>SG</td>\n",
       "      <td>61</td>\n",
       "      <td>935</td>\n",
       "      <td>14.5</td>\n",
       "      <td>0.531</td>\n",
       "      <td>0.240</td>\n",
       "      <td>...</td>\n",
       "      <td>NaN</td>\n",
       "      <td>0.8</td>\n",
       "      <td>1.1</td>\n",
       "      <td>1.9</td>\n",
       "      <td>0.099</td>\n",
       "      <td>NaN</td>\n",
       "      <td>-1.0</td>\n",
       "      <td>-0.5</td>\n",
       "      <td>-1.5</td>\n",
       "      <td>0.1</td>\n",
       "    </tr>\n",
       "    <tr>\n",
       "      <th>1</th>\n",
       "      <td>2021-22</td>\n",
       "      <td>21.0</td>\n",
       "      <td>PHI</td>\n",
       "      <td>NBA</td>\n",
       "      <td>PG</td>\n",
       "      <td>75</td>\n",
       "      <td>2650</td>\n",
       "      <td>16.2</td>\n",
       "      <td>0.594</td>\n",
       "      <td>0.311</td>\n",
       "      <td>...</td>\n",
       "      <td>NaN</td>\n",
       "      <td>5.4</td>\n",
       "      <td>1.9</td>\n",
       "      <td>7.3</td>\n",
       "      <td>0.132</td>\n",
       "      <td>NaN</td>\n",
       "      <td>1.3</td>\n",
       "      <td>-0.7</td>\n",
       "      <td>0.6</td>\n",
       "      <td>1.8</td>\n",
       "    </tr>\n",
       "    <tr>\n",
       "      <th>2</th>\n",
       "      <td>2022-23</td>\n",
       "      <td>22.0</td>\n",
       "      <td>PHI</td>\n",
       "      <td>NBA</td>\n",
       "      <td>SG</td>\n",
       "      <td>60</td>\n",
       "      <td>2016</td>\n",
       "      <td>17.0</td>\n",
       "      <td>0.605</td>\n",
       "      <td>0.404</td>\n",
       "      <td>...</td>\n",
       "      <td>NaN</td>\n",
       "      <td>3.7</td>\n",
       "      <td>1.6</td>\n",
       "      <td>5.4</td>\n",
       "      <td>0.128</td>\n",
       "      <td>NaN</td>\n",
       "      <td>1.9</td>\n",
       "      <td>-1.2</td>\n",
       "      <td>0.6</td>\n",
       "      <td>1.3</td>\n",
       "    </tr>\n",
       "    <tr>\n",
       "      <th>3</th>\n",
       "      <td>2023-24</td>\n",
       "      <td>23.0</td>\n",
       "      <td>PHI</td>\n",
       "      <td>NBA</td>\n",
       "      <td>PG</td>\n",
       "      <td>18</td>\n",
       "      <td>691</td>\n",
       "      <td>22.1</td>\n",
       "      <td>0.596</td>\n",
       "      <td>0.409</td>\n",
       "      <td>...</td>\n",
       "      <td>NaN</td>\n",
       "      <td>2.4</td>\n",
       "      <td>0.5</td>\n",
       "      <td>2.9</td>\n",
       "      <td>0.202</td>\n",
       "      <td>NaN</td>\n",
       "      <td>6.0</td>\n",
       "      <td>-0.8</td>\n",
       "      <td>5.2</td>\n",
       "      <td>1.3</td>\n",
       "    </tr>\n",
       "    <tr>\n",
       "      <th>4</th>\n",
       "      <td>Career</td>\n",
       "      <td>NaN</td>\n",
       "      <td>NaN</td>\n",
       "      <td>NBA</td>\n",
       "      <td>NaN</td>\n",
       "      <td>214</td>\n",
       "      <td>6292</td>\n",
       "      <td>16.9</td>\n",
       "      <td>0.588</td>\n",
       "      <td>0.344</td>\n",
       "      <td>...</td>\n",
       "      <td>NaN</td>\n",
       "      <td>12.3</td>\n",
       "      <td>5.2</td>\n",
       "      <td>17.5</td>\n",
       "      <td>0.133</td>\n",
       "      <td>NaN</td>\n",
       "      <td>1.6</td>\n",
       "      <td>-0.8</td>\n",
       "      <td>0.8</td>\n",
       "      <td>4.5</td>\n",
       "    </tr>\n",
       "  </tbody>\n",
       "</table>\n",
       "<p>5 rows × 29 columns</p>\n",
       "</div>"
      ],
      "text/plain": [
       "    Season   Age   Tm   Lg  Pos    G    MP   PER    TS%   3PAr  ...  \\\n",
       "0  2020-21  20.0  PHI  NBA   SG   61   935  14.5  0.531  0.240  ...   \n",
       "1  2021-22  21.0  PHI  NBA   PG   75  2650  16.2  0.594  0.311  ...   \n",
       "2  2022-23  22.0  PHI  NBA   SG   60  2016  17.0  0.605  0.404  ...   \n",
       "3  2023-24  23.0  PHI  NBA   PG   18   691  22.1  0.596  0.409  ...   \n",
       "4   Career   NaN  NaN  NBA  NaN  214  6292  16.9  0.588  0.344  ...   \n",
       "\n",
       "   Unnamed: 19   OWS  DWS    WS  WS/48  Unnamed: 24  OBPM  DBPM  BPM  VORP  \n",
       "0          NaN   0.8  1.1   1.9  0.099          NaN  -1.0  -0.5 -1.5   0.1  \n",
       "1          NaN   5.4  1.9   7.3  0.132          NaN   1.3  -0.7  0.6   1.8  \n",
       "2          NaN   3.7  1.6   5.4  0.128          NaN   1.9  -1.2  0.6   1.3  \n",
       "3          NaN   2.4  0.5   2.9  0.202          NaN   6.0  -0.8  5.2   1.3  \n",
       "4          NaN  12.3  5.2  17.5  0.133          NaN   1.6  -0.8  0.8   4.5  \n",
       "\n",
       "[5 rows x 29 columns]"
      ]
     },
     "execution_count": 27,
     "metadata": {},
     "output_type": "execute_result"
    }
   ],
   "source": [
    "# Let's analyze his field goal rate more deeply\n",
    "advanced=pd.read_csv('../data/advanced.csv')\n",
    "advanced"
   ]
  },
  {
   "cell_type": "markdown",
   "id": "b8df3e62-38f8-42f7-a057-77060056dfc1",
   "metadata": {},
   "source": [
    "* Glossary(I only select the ones we I'm going to use)\n",
    "1. PER -- Player Efficiency Rating: A measure of per-minute production standardized such that the league average is 15.\n",
    "2. **TS% -- True Shooting Percentage: A measure of shooting efficiency that takes into account 2-point field goals, 3-point field goals, and free throws.**\n",
    "3. 3PAr -- 3-Point Attempt Rate: Percentage of FG Attempts from 3-Point Range\n",
    "4. FTr -- Free Throw Attempt Rate: Number of FT Attempts Per FG Attempt.\n",
    "5. AST% -- Assist Percentage: An estimate of the percentage of teammate field goals a player assisted while they were on the floor.\n",
    "6. TOV% -- Turnover Percentage: An estimate of turnovers committed per 100 plays.\n",
    "7. **USG% -- Usage Percentage: An estimate of the percentage of team plays used by a player while they were on the floor.**\n",
    "8. WS -- Win Shares: An estimate of the number of wins contributed by a player.\n",
    "9. OBPM -- Offensive Box Plus/Minus: A box score estimate of the offensive points per 100 possessions a player contributed above a league-average player, translated to an average team.\n",
    "10. DBPM -- Defensive Box Plus/Minus: A box score estimate of the defensive points per 100 possessions a player contributed above a league-average player, translated to an average team.\n",
    "11. BPM -- Box Plus/Minus: A box score estimate of the points per 100 possessions a player contributed above a league-average player, translated to an average team."
   ]
  },
  {
   "cell_type": "code",
   "execution_count": 85,
   "id": "4e370d26-02ad-4cb0-a9b3-8670deec96e6",
   "metadata": {
    "tags": []
   },
   "outputs": [
    {
     "data": {
      "text/html": [
       "<div>\n",
       "<style scoped>\n",
       "    .dataframe tbody tr th:only-of-type {\n",
       "        vertical-align: middle;\n",
       "    }\n",
       "\n",
       "    .dataframe tbody tr th {\n",
       "        vertical-align: top;\n",
       "    }\n",
       "\n",
       "    .dataframe thead th {\n",
       "        text-align: right;\n",
       "    }\n",
       "</style>\n",
       "<table border=\"1\" class=\"dataframe\">\n",
       "  <thead>\n",
       "    <tr style=\"text-align: right;\">\n",
       "      <th></th>\n",
       "      <th>Season</th>\n",
       "      <th>TS%</th>\n",
       "      <th>USG%</th>\n",
       "    </tr>\n",
       "  </thead>\n",
       "  <tbody>\n",
       "    <tr>\n",
       "      <th>0</th>\n",
       "      <td>2020-21</td>\n",
       "      <td>0.531</td>\n",
       "      <td>23.0</td>\n",
       "    </tr>\n",
       "    <tr>\n",
       "      <th>1</th>\n",
       "      <td>2021-22</td>\n",
       "      <td>0.594</td>\n",
       "      <td>20.2</td>\n",
       "    </tr>\n",
       "    <tr>\n",
       "      <th>2</th>\n",
       "      <td>2022-23</td>\n",
       "      <td>0.605</td>\n",
       "      <td>24.1</td>\n",
       "    </tr>\n",
       "    <tr>\n",
       "      <th>3</th>\n",
       "      <td>2023-24</td>\n",
       "      <td>0.596</td>\n",
       "      <td>26.6</td>\n",
       "    </tr>\n",
       "    <tr>\n",
       "      <th>4</th>\n",
       "      <td>Career</td>\n",
       "      <td>0.588</td>\n",
       "      <td>22.6</td>\n",
       "    </tr>\n",
       "  </tbody>\n",
       "</table>\n",
       "</div>"
      ],
      "text/plain": [
       "    Season    TS%  USG%\n",
       "0  2020-21  0.531  23.0\n",
       "1  2021-22  0.594  20.2\n",
       "2  2022-23  0.605  24.1\n",
       "3  2023-24  0.596  26.6\n",
       "4   Career  0.588  22.6"
      ]
     },
     "execution_count": 85,
     "metadata": {},
     "output_type": "execute_result"
    }
   ],
   "source": [
    "advanced[['Season', 'TS%', 'USG%']] # The true shooting percentage is basically an adjusted measurement of shot rates as 3-pointer is more valuable than a 2-pointer.\n",
    "# The general impression of his productivity and effiency"
   ]
  },
  {
   "cell_type": "code",
   "execution_count": 91,
   "id": "1ad73829-8979-4d3f-bbec-14e4fc7a730e",
   "metadata": {},
   "outputs": [
    {
     "data": {
      "text/plain": [
       "0.5434618556701031"
      ]
     },
     "execution_count": 91,
     "metadata": {},
     "output_type": "execute_result"
    }
   ],
   "source": [
    "# Comparisons with other players\n",
    "advanced_all=pd.read_csv('../data/advanced_all.csv')\n",
    "over_10game=advanced_all[advanced_all['G']>10]\n",
    "advanced_all['TS%'].mean()"
   ]
  },
  {
   "cell_type": "code",
   "execution_count": 89,
   "id": "6e553f0f-d6f1-4b9d-988e-773316f39f45",
   "metadata": {},
   "outputs": [
    {
     "name": "stderr",
     "output_type": "stream",
     "text": [
      "/tmp/ipykernel_2989056/2083393540.py:2: UserWarning: Boolean Series key will be reindexed to match DataFrame index.\n",
      "  plt.scatter(over_10game['USG%'].iloc[over_10game[over_10game['Player'] == 'Tyrese Maxey'].index[0]], over_10game['DBPM'].iloc[over_10game[BPM_all['Player'] == 'Tyrese Maxey'].index[0]], color='red', label='Tyrese Maxey', marker='o')\n"
     ]
    },
    {
     "data": {
      "image/png": "[encoded data removed]",
      "text/plain": [
       "<Figure size 432x288 with 1 Axes>"
      ]
     },
     "metadata": {
      "needs_background": "light"
     },
     "output_type": "display_data"
    }
   ],
   "source": [
    "plt.scatter(over_10game['USG%'], over_10game['TS%'])\n",
    "plt.scatter(over_10game['USG%'].iloc[over_10game[over_10game['Player'] == 'Tyrese Maxey'].index[0]], over_10game['DBPM'].iloc[over_10game[BPM_all['Player'] == 'Tyrese Maxey'].index[0]], color='red', label='Tyrese Maxey', marker='o')\n",
    "plt.title('Scatter Plot of USG% vs TS%')\n",
    "plt.xlabel('Usage Percentage%')\n",
    "plt.ylabel('True Shooting Percentage%')\n",
    "plt.legend()\n",
    "plt.grid(True)\n",
    "plt.show()"
   ]
  },
  {
   "cell_type": "markdown",
   "id": "c642359f-74f1-49ac-abfa-a0ce42ce14fb",
   "metadata": {},
   "source": [
    "As a player who has a high usage percentage (means how much the team relies on him), his true shooting percentage (means how effective he is) is still above the average of that in the whole league(0.543). It proves he can shoulder the offense responsibility for a team, acting excellently both in productivity and efficiency."
   ]
  },
  {
   "cell_type": "code",
   "execution_count": 36,
   "id": "f0c0e7d4-5b5a-4a80-9571-f70c7a397a38",
   "metadata": {
    "tags": []
   },
   "outputs": [
    {
     "data": {
      "text/html": [
       "<div>\n",
       "<style scoped>\n",
       "    .dataframe tbody tr th:only-of-type {\n",
       "        vertical-align: middle;\n",
       "    }\n",
       "\n",
       "    .dataframe tbody tr th {\n",
       "        vertical-align: top;\n",
       "    }\n",
       "\n",
       "    .dataframe thead th {\n",
       "        text-align: right;\n",
       "    }\n",
       "</style>\n",
       "<table border=\"1\" class=\"dataframe\">\n",
       "  <thead>\n",
       "    <tr style=\"text-align: right;\">\n",
       "      <th></th>\n",
       "      <th>Season</th>\n",
       "      <th>3P</th>\n",
       "      <th>3P%</th>\n",
       "      <th>2P</th>\n",
       "      <th>2P%</th>\n",
       "      <th>FT</th>\n",
       "      <th>FT%</th>\n",
       "      <th>FG%</th>\n",
       "    </tr>\n",
       "  </thead>\n",
       "  <tbody>\n",
       "    <tr>\n",
       "      <th>0</th>\n",
       "      <td>2020-21</td>\n",
       "      <td>0.5</td>\n",
       "      <td>0.301</td>\n",
       "      <td>2.7</td>\n",
       "      <td>0.512</td>\n",
       "      <td>1.0</td>\n",
       "      <td>0.871</td>\n",
       "      <td>0.462</td>\n",
       "    </tr>\n",
       "    <tr>\n",
       "      <th>1</th>\n",
       "      <td>2021-22</td>\n",
       "      <td>1.8</td>\n",
       "      <td>0.427</td>\n",
       "      <td>4.7</td>\n",
       "      <td>0.512</td>\n",
       "      <td>2.8</td>\n",
       "      <td>0.866</td>\n",
       "      <td>0.485</td>\n",
       "    </tr>\n",
       "    <tr>\n",
       "      <th>2</th>\n",
       "      <td>2022-23</td>\n",
       "      <td>2.7</td>\n",
       "      <td>0.434</td>\n",
       "      <td>4.7</td>\n",
       "      <td>0.513</td>\n",
       "      <td>3.0</td>\n",
       "      <td>0.845</td>\n",
       "      <td>0.481</td>\n",
       "    </tr>\n",
       "    <tr>\n",
       "      <th>3</th>\n",
       "      <td>2023-24</td>\n",
       "      <td>3.3</td>\n",
       "      <td>0.396</td>\n",
       "      <td>6.1</td>\n",
       "      <td>0.512</td>\n",
       "      <td>4.9</td>\n",
       "      <td>0.899</td>\n",
       "      <td>0.464</td>\n",
       "    </tr>\n",
       "    <tr>\n",
       "      <th>4</th>\n",
       "      <td>Career</td>\n",
       "      <td>1.8</td>\n",
       "      <td>0.411</td>\n",
       "      <td>4.2</td>\n",
       "      <td>0.512</td>\n",
       "      <td>2.5</td>\n",
       "      <td>0.865</td>\n",
       "      <td>0.477</td>\n",
       "    </tr>\n",
       "  </tbody>\n",
       "</table>\n",
       "</div>"
      ],
      "text/plain": [
       "    Season   3P    3P%   2P    2P%   FT    FT%    FG%\n",
       "0  2020-21  0.5  0.301  2.7  0.512  1.0  0.871  0.462\n",
       "1  2021-22  1.8  0.427  4.7  0.512  2.8  0.866  0.485\n",
       "2  2022-23  2.7  0.434  4.7  0.513  3.0  0.845  0.481\n",
       "3  2023-24  3.3  0.396  6.1  0.512  4.9  0.899  0.464\n",
       "4   Career  1.8  0.411  4.2  0.512  2.5  0.865  0.477"
      ]
     },
     "execution_count": 36,
     "metadata": {},
     "output_type": "execute_result"
    }
   ],
   "source": [
    "# Let's see his productivity and effiency in all fields\n",
    "per_game[['Season', '3P', '3P%', '2P', '2P%', 'FT', 'FT%', 'FG%']]"
   ]
  },
  {
   "cell_type": "markdown",
   "id": "17553977-0719-4fb1-90dd-f7dd15e2b2e2",
   "metadata": {},
   "source": [
    "More 3-pointers and more aggressiveness (increased free throws), Maxey keeps improving his offense abilities."
   ]
  },
  {
   "cell_type": "code",
   "execution_count": 45,
   "id": "ff3440e2-b4b0-4635-8e26-54d9fde3adf8",
   "metadata": {
    "tags": []
   },
   "outputs": [
    {
     "data": {
      "text/html": [
       "<div>\n",
       "<style scoped>\n",
       "    .dataframe tbody tr th:only-of-type {\n",
       "        vertical-align: middle;\n",
       "    }\n",
       "\n",
       "    .dataframe tbody tr th {\n",
       "        vertical-align: top;\n",
       "    }\n",
       "\n",
       "    .dataframe thead th {\n",
       "        text-align: right;\n",
       "    }\n",
       "</style>\n",
       "<table border=\"1\" class=\"dataframe\">\n",
       "  <thead>\n",
       "    <tr style=\"text-align: right;\">\n",
       "      <th></th>\n",
       "      <th>Season</th>\n",
       "      <th>AST</th>\n",
       "      <th>TOV</th>\n",
       "      <th>AST_TOV</th>\n",
       "    </tr>\n",
       "  </thead>\n",
       "  <tbody>\n",
       "    <tr>\n",
       "      <th>0</th>\n",
       "      <td>2020-21</td>\n",
       "      <td>2.0</td>\n",
       "      <td>0.7</td>\n",
       "      <td>2.857143</td>\n",
       "    </tr>\n",
       "    <tr>\n",
       "      <th>1</th>\n",
       "      <td>2021-22</td>\n",
       "      <td>4.3</td>\n",
       "      <td>1.2</td>\n",
       "      <td>3.583333</td>\n",
       "    </tr>\n",
       "    <tr>\n",
       "      <th>2</th>\n",
       "      <td>2022-23</td>\n",
       "      <td>3.5</td>\n",
       "      <td>1.3</td>\n",
       "      <td>2.692308</td>\n",
       "    </tr>\n",
       "    <tr>\n",
       "      <th>3</th>\n",
       "      <td>2023-24</td>\n",
       "      <td>6.7</td>\n",
       "      <td>1.6</td>\n",
       "      <td>4.187500</td>\n",
       "    </tr>\n",
       "    <tr>\n",
       "      <th>4</th>\n",
       "      <td>Career</td>\n",
       "      <td>3.6</td>\n",
       "      <td>1.1</td>\n",
       "      <td>3.272727</td>\n",
       "    </tr>\n",
       "  </tbody>\n",
       "</table>\n",
       "</div>"
      ],
      "text/plain": [
       "    Season  AST  TOV   AST_TOV\n",
       "0  2020-21  2.0  0.7  2.857143\n",
       "1  2021-22  4.3  1.2  3.583333\n",
       "2  2022-23  3.5  1.3  2.692308\n",
       "3  2023-24  6.7  1.6  4.187500\n",
       "4   Career  3.6  1.1  3.272727"
      ]
     },
     "execution_count": 45,
     "metadata": {},
     "output_type": "execute_result"
    }
   ],
   "source": [
    "# His dribbling and passing?\n",
    "per_game['AST_TOV']=per_game['AST'] / per_game['TOV']\n",
    "per_game[['Season', 'AST', 'TOV', 'AST_TOV']]"
   ]
  },
  {
   "cell_type": "code",
   "execution_count": 84,
   "id": "30440c5a-cab6-4d0b-aae9-c450848c1d38",
   "metadata": {
    "tags": []
   },
   "outputs": [
    {
     "data": {
      "image/png": "[encoded data removed]",
      "text/plain": [
       "<Figure size 864x288 with 3 Axes>"
      ]
     },
     "metadata": {
      "needs_background": "light"
     },
     "output_type": "display_data"
    }
   ],
   "source": [
    "fig, axs = plt.subplots(1, 3, figsize=(12, 4))\n",
    "# the first subplot\n",
    "axs[0].plot(advanced['Season'][:-1], advanced['AST%'][:-1], marker='o')\n",
    "axs[0].set_title('Assist Percentages in Seasons')\n",
    "axs[0].set_xlabel('Season')\n",
    "axs[0].set_ylabel('Assist Percentage')\n",
    "axs[0].axhline(y=advanced['AST%'].iloc[-1], linestyle='--', color='gray', label='Career Avg')\n",
    "axs[0].legend()\n",
    "\n",
    "# the second subplot\n",
    "axs[1].plot(advanced['Season'][:-1],advanced['TOV%'][:-1], marker='x')\n",
    "axs[1].set_title('Turnover Percentages in Seasons')\n",
    "axs[1].set_xlabel('Season')\n",
    "axs[1].set_ylabel('Turnover Percentage')\n",
    "axs[1].axhline(y=advanced['TOV%'].iloc[-1], linestyle='--', color='gray', label='Career Avg')\n",
    "axs[1].legend()\n",
    "\n",
    "# the third subplot\n",
    "axs[2].plot(advanced['Season'][:-1],advanced['USG%'][:-1])\n",
    "axs[2].set_title('Usage Percentages in Seasons')\n",
    "axs[2].set_xlabel('Season')\n",
    "axs[2].set_ylabel('Usage Percentage')\n",
    "axs[2].axhline(y=advanced['USG%'].iloc[-1], linestyle='--', color='gray', label='Career Avg')\n",
    "axs[2].legend()\n",
    "\n",
    "plt.tight_layout()\n",
    "plt.show()"
   ]
  },
  {
   "cell_type": "code",
   "execution_count": 96,
   "id": "3a9cb5b6-04f3-4fc5-89c8-4c32ab04d5d2",
   "metadata": {},
   "outputs": [
    {
     "data": {
      "image/png": "[encoded data removed]",
      "text/plain": [
       "<Figure size 432x288 with 1 Axes>"
      ]
     },
     "metadata": {
      "needs_background": "light"
     },
     "output_type": "display_data"
    }
   ],
   "source": [
    "# Comparisons with other players\n",
    "# Assist percentage\n",
    "plt.hist(advanced_all['AST%'], bins=40, edgecolor='black')\n",
    "plt.title('Assist Percentages')\n",
    "plt.xlabel('AST%')\n",
    "plt.ylabel('Number of Players')\n",
    "plt.axvline(x=advanced_all['AST%'].iloc[advanced_all[advanced_all['Player'] == 'Tyrese Maxey'].index[0]], color='red', linestyle='dashed', linewidth=2, label='Tyerese Maxey')\n",
    "plt.legend()\n",
    "plt.show()"
   ]
  },
  {
   "cell_type": "code",
   "execution_count": 97,
   "id": "2a7e9aa8-a473-4c21-b57b-b2ea37066116",
   "metadata": {
    "tags": []
   },
   "outputs": [
    {
     "data": {
      "image/png": "[encoded data removed]",
      "text/plain": [
       "<Figure size 432x288 with 1 Axes>"
      ]
     },
     "metadata": {
      "needs_background": "light"
     },
     "output_type": "display_data"
    }
   ],
   "source": [
    "# Turnover Percentage\n",
    "plt.hist(advanced_all['TOV%'], bins=40, edgecolor='black')\n",
    "plt.title('Turnover Percentages')\n",
    "plt.xlabel('TOV%')\n",
    "plt.ylabel('Number of Players')\n",
    "plt.axvline(x=advanced_all['TOV%'].iloc[advanced_all[advanced_all['Player'] == 'Tyrese Maxey'].index[0]], color='red', linestyle='dashed', linewidth=2, label='Tyerese Maxey')\n",
    "plt.legend()\n",
    "plt.show()"
   ]
  },
  {
   "cell_type": "markdown",
   "id": "d1b025fc-404e-4bf1-9c7b-a8ba88e871d0",
   "metadata": {},
   "source": [
    "With such a high assist percentage, Maxey can still control his turnovers in a good level (much above the average). It indicates Maxey's dribbling and passing performance is wonderful this season."
   ]
  },
  {
   "cell_type": "code",
   "execution_count": 48,
   "id": "de3f281c-5461-4782-8956-adf88f6324d6",
   "metadata": {
    "tags": []
   },
   "outputs": [
    {
     "data": {
      "text/html": [
       "<div>\n",
       "<style scoped>\n",
       "    .dataframe tbody tr th:only-of-type {\n",
       "        vertical-align: middle;\n",
       "    }\n",
       "\n",
       "    .dataframe tbody tr th {\n",
       "        vertical-align: top;\n",
       "    }\n",
       "\n",
       "    .dataframe thead th {\n",
       "        text-align: right;\n",
       "    }\n",
       "</style>\n",
       "<table border=\"1\" class=\"dataframe\">\n",
       "  <thead>\n",
       "    <tr style=\"text-align: right;\">\n",
       "      <th></th>\n",
       "      <th>Season</th>\n",
       "      <th>TRB</th>\n",
       "      <th>ORB</th>\n",
       "      <th>BLK</th>\n",
       "      <th>STL</th>\n",
       "      <th>PF</th>\n",
       "    </tr>\n",
       "  </thead>\n",
       "  <tbody>\n",
       "    <tr>\n",
       "      <th>0</th>\n",
       "      <td>2020-21</td>\n",
       "      <td>1.7</td>\n",
       "      <td>0.2</td>\n",
       "      <td>0.2</td>\n",
       "      <td>0.4</td>\n",
       "      <td>1.3</td>\n",
       "    </tr>\n",
       "    <tr>\n",
       "      <th>1</th>\n",
       "      <td>2021-22</td>\n",
       "      <td>3.2</td>\n",
       "      <td>0.3</td>\n",
       "      <td>0.4</td>\n",
       "      <td>0.7</td>\n",
       "      <td>2.1</td>\n",
       "    </tr>\n",
       "    <tr>\n",
       "      <th>2</th>\n",
       "      <td>2022-23</td>\n",
       "      <td>2.9</td>\n",
       "      <td>0.4</td>\n",
       "      <td>0.1</td>\n",
       "      <td>0.8</td>\n",
       "      <td>2.2</td>\n",
       "    </tr>\n",
       "    <tr>\n",
       "      <th>3</th>\n",
       "      <td>2023-24</td>\n",
       "      <td>4.6</td>\n",
       "      <td>0.7</td>\n",
       "      <td>0.7</td>\n",
       "      <td>0.8</td>\n",
       "      <td>1.9</td>\n",
       "    </tr>\n",
       "    <tr>\n",
       "      <th>4</th>\n",
       "      <td>Career</td>\n",
       "      <td>2.8</td>\n",
       "      <td>0.3</td>\n",
       "      <td>0.3</td>\n",
       "      <td>0.7</td>\n",
       "      <td>1.9</td>\n",
       "    </tr>\n",
       "  </tbody>\n",
       "</table>\n",
       "</div>"
      ],
      "text/plain": [
       "    Season  TRB  ORB  BLK  STL   PF\n",
       "0  2020-21  1.7  0.2  0.2  0.4  1.3\n",
       "1  2021-22  3.2  0.3  0.4  0.7  2.1\n",
       "2  2022-23  2.9  0.4  0.1  0.8  2.2\n",
       "3  2023-24  4.6  0.7  0.7  0.8  1.9\n",
       "4   Career  2.8  0.3  0.3  0.7  1.9"
      ]
     },
     "execution_count": 48,
     "metadata": {},
     "output_type": "execute_result"
    }
   ],
   "source": [
    "# General defense\n",
    "per_game[['Season','TRB', 'ORB', 'BLK', 'STL', 'PF']] # Rebounds, offensive rebounds, blocks, steals, and personal fouls"
   ]
  },
  {
   "cell_type": "markdown",
   "id": "bd7a389d-670d-4555-920a-416be42d8e8b",
   "metadata": {},
   "source": [
    "Generally speaking, Maxey has improved his defense this season but is still not a good defender. His general defensive data are low and he is not aggressive in defending according to low personal fouls. A surprising discovery is that he can get 0.7 offensive rebounds per game which is relatively high as a short guard."
   ]
  },
  {
   "cell_type": "code",
   "execution_count": 35,
   "id": "ed97b374-d821-4417-8e78-5966e79afce1",
   "metadata": {
    "tags": []
   },
   "outputs": [
    {
     "data": {
      "text/html": [
       "<div>\n",
       "<style scoped>\n",
       "    .dataframe tbody tr th:only-of-type {\n",
       "        vertical-align: middle;\n",
       "    }\n",
       "\n",
       "    .dataframe tbody tr th {\n",
       "        vertical-align: top;\n",
       "    }\n",
       "\n",
       "    .dataframe thead th {\n",
       "        text-align: right;\n",
       "    }\n",
       "</style>\n",
       "<table border=\"1\" class=\"dataframe\">\n",
       "  <thead>\n",
       "    <tr style=\"text-align: right;\">\n",
       "      <th></th>\n",
       "      <th>Season</th>\n",
       "      <th>OBPM</th>\n",
       "      <th>DBPM</th>\n",
       "      <th>BPM</th>\n",
       "    </tr>\n",
       "  </thead>\n",
       "  <tbody>\n",
       "    <tr>\n",
       "      <th>0</th>\n",
       "      <td>2020-21</td>\n",
       "      <td>-1.0</td>\n",
       "      <td>-0.5</td>\n",
       "      <td>-1.5</td>\n",
       "    </tr>\n",
       "    <tr>\n",
       "      <th>1</th>\n",
       "      <td>2021-22</td>\n",
       "      <td>1.3</td>\n",
       "      <td>-0.7</td>\n",
       "      <td>0.6</td>\n",
       "    </tr>\n",
       "    <tr>\n",
       "      <th>2</th>\n",
       "      <td>2022-23</td>\n",
       "      <td>1.9</td>\n",
       "      <td>-1.2</td>\n",
       "      <td>0.6</td>\n",
       "    </tr>\n",
       "    <tr>\n",
       "      <th>3</th>\n",
       "      <td>2023-24</td>\n",
       "      <td>6.0</td>\n",
       "      <td>-0.8</td>\n",
       "      <td>5.2</td>\n",
       "    </tr>\n",
       "    <tr>\n",
       "      <th>4</th>\n",
       "      <td>Career</td>\n",
       "      <td>1.6</td>\n",
       "      <td>-0.8</td>\n",
       "      <td>0.8</td>\n",
       "    </tr>\n",
       "  </tbody>\n",
       "</table>\n",
       "</div>"
      ],
      "text/plain": [
       "    Season  OBPM  DBPM  BPM\n",
       "0  2020-21  -1.0  -0.5 -1.5\n",
       "1  2021-22   1.3  -0.7  0.6\n",
       "2  2022-23   1.9  -1.2  0.6\n",
       "3  2023-24   6.0  -0.8  5.2\n",
       "4   Career   1.6  -0.8  0.8"
      ]
     },
     "execution_count": 35,
     "metadata": {},
     "output_type": "execute_result"
    }
   ],
   "source": [
    "# BPM to the team\n",
    "advanced[['Season', 'OBPM', 'DBPM', 'BPM']]\n",
    "# Number 14 among all players this season in BPM; number 8 among all players this season in OBPM"
   ]
  },
  {
   "cell_type": "code",
   "execution_count": 40,
   "id": "34792599-ceb0-4efe-b222-46847f1f6565",
   "metadata": {
    "tags": []
   },
   "outputs": [
    {
     "data": {
      "image/png": "[encoded data removed]",
      "text/plain": [
       "<Figure size 432x288 with 1 Axes>"
      ]
     },
     "metadata": {
      "needs_background": "light"
     },
     "output_type": "display_data"
    }
   ],
   "source": [
    "BPM_all=pd.read_csv('../data/BPM_all.csv')\n",
    "plt.scatter(BPM_all['OBPM'], BPM_all['DBPM'])\n",
    "plt.scatter(BPM_all['OBPM'].iloc[BPM_all[BPM_all['Player'] == 'Tyrese Maxey'].index[0]], BPM_all['DBPM'].iloc[BPM_all[BPM_all['Player'] == 'Tyrese Maxey'].index[0]], color='red', label='Tyrese Maxey', marker='o')\n",
    "plt.title('Scatter Plot of OBPM vs DBPM')\n",
    "plt.xlabel('OBPM')\n",
    "plt.ylabel('DBPM')\n",
    "plt.legend()\n",
    "plt.grid(True)\n",
    "plt.show()"
   ]
  },
  {
   "cell_type": "code",
   "execution_count": 50,
   "id": "8f634125-fb08-460c-a685-365a998cf9a0",
   "metadata": {
    "tags": []
   },
   "outputs": [],
   "source": [
    "# In college\n",
    "college_per_game=pd.read_csv('../data/college_per_game.csv')\n",
    "college_advanced=pd.read_csv('../data/college_advanced.csv')"
   ]
  },
  {
   "cell_type": "code",
   "execution_count": 55,
   "id": "d3f7f59f-457c-48dc-b3e8-77fb7d6687ef",
   "metadata": {
    "tags": []
   },
   "outputs": [
    {
     "data": {
      "text/html": [
       "<div>\n",
       "<style scoped>\n",
       "    .dataframe tbody tr th:only-of-type {\n",
       "        vertical-align: middle;\n",
       "    }\n",
       "\n",
       "    .dataframe tbody tr th {\n",
       "        vertical-align: top;\n",
       "    }\n",
       "\n",
       "    .dataframe thead th {\n",
       "        text-align: right;\n",
       "    }\n",
       "</style>\n",
       "<table border=\"1\" class=\"dataframe\">\n",
       "  <thead>\n",
       "    <tr style=\"text-align: right;\">\n",
       "      <th></th>\n",
       "      <th>Season</th>\n",
       "      <th>PTS</th>\n",
       "      <th>AST</th>\n",
       "      <th>TRB</th>\n",
       "      <th>TOV</th>\n",
       "    </tr>\n",
       "  </thead>\n",
       "  <tbody>\n",
       "    <tr>\n",
       "      <th>0</th>\n",
       "      <td>2019-20</td>\n",
       "      <td>14.0</td>\n",
       "      <td>3.2</td>\n",
       "      <td>4.3</td>\n",
       "      <td>2.2</td>\n",
       "    </tr>\n",
       "    <tr>\n",
       "      <th>1</th>\n",
       "      <td>Career</td>\n",
       "      <td>14.0</td>\n",
       "      <td>3.2</td>\n",
       "      <td>4.3</td>\n",
       "      <td>2.2</td>\n",
       "    </tr>\n",
       "  </tbody>\n",
       "</table>\n",
       "</div>"
      ],
      "text/plain": [
       "    Season   PTS  AST  TRB  TOV\n",
       "0  2019-20  14.0  3.2  4.3  2.2\n",
       "1   Career  14.0  3.2  4.3  2.2"
      ]
     },
     "execution_count": 55,
     "metadata": {},
     "output_type": "execute_result"
    }
   ],
   "source": [
    "# Key data about general offence\n",
    "college_per_game[['Season', 'PTS', 'AST', 'TRB', 'TOV']]"
   ]
  },
  {
   "cell_type": "code",
   "execution_count": 56,
   "id": "7e6355bd-72c7-4647-a969-c39d11fe2466",
   "metadata": {
    "tags": []
   },
   "outputs": [
    {
     "data": {
      "text/html": [
       "<div>\n",
       "<style scoped>\n",
       "    .dataframe tbody tr th:only-of-type {\n",
       "        vertical-align: middle;\n",
       "    }\n",
       "\n",
       "    .dataframe tbody tr th {\n",
       "        vertical-align: top;\n",
       "    }\n",
       "\n",
       "    .dataframe thead th {\n",
       "        text-align: right;\n",
       "    }\n",
       "</style>\n",
       "<table border=\"1\" class=\"dataframe\">\n",
       "  <thead>\n",
       "    <tr style=\"text-align: right;\">\n",
       "      <th></th>\n",
       "      <th>Season</th>\n",
       "      <th>USG%</th>\n",
       "      <th>TS%</th>\n",
       "      <th>AST%</th>\n",
       "    </tr>\n",
       "  </thead>\n",
       "  <tbody>\n",
       "    <tr>\n",
       "      <th>0</th>\n",
       "      <td>2019-20</td>\n",
       "      <td>22.7</td>\n",
       "      <td>0.531</td>\n",
       "      <td>18.7</td>\n",
       "    </tr>\n",
       "    <tr>\n",
       "      <th>1</th>\n",
       "      <td>Career</td>\n",
       "      <td>22.7</td>\n",
       "      <td>0.531</td>\n",
       "      <td>18.7</td>\n",
       "    </tr>\n",
       "  </tbody>\n",
       "</table>\n",
       "</div>"
      ],
      "text/plain": [
       "    Season  USG%    TS%  AST%\n",
       "0  2019-20  22.7  0.531  18.7\n",
       "1   Career  22.7  0.531  18.7"
      ]
     },
     "execution_count": 56,
     "metadata": {},
     "output_type": "execute_result"
    }
   ],
   "source": [
    "# Productivity and effiency\n",
    "college_advanced[['Season', 'USG%', 'TS%', 'AST%']]"
   ]
  },
  {
   "cell_type": "code",
   "execution_count": 57,
   "id": "d211b5c8-616d-4023-baee-cd4220654d93",
   "metadata": {},
   "outputs": [
    {
     "data": {
      "text/html": [
       "<div>\n",
       "<style scoped>\n",
       "    .dataframe tbody tr th:only-of-type {\n",
       "        vertical-align: middle;\n",
       "    }\n",
       "\n",
       "    .dataframe tbody tr th {\n",
       "        vertical-align: top;\n",
       "    }\n",
       "\n",
       "    .dataframe thead th {\n",
       "        text-align: right;\n",
       "    }\n",
       "</style>\n",
       "<table border=\"1\" class=\"dataframe\">\n",
       "  <thead>\n",
       "    <tr style=\"text-align: right;\">\n",
       "      <th></th>\n",
       "      <th>Season</th>\n",
       "      <th>OBPM</th>\n",
       "      <th>DBPM</th>\n",
       "      <th>BPM</th>\n",
       "    </tr>\n",
       "  </thead>\n",
       "  <tbody>\n",
       "    <tr>\n",
       "      <th>0</th>\n",
       "      <td>2019-20</td>\n",
       "      <td>2.4</td>\n",
       "      <td>2.0</td>\n",
       "      <td>4.4</td>\n",
       "    </tr>\n",
       "    <tr>\n",
       "      <th>1</th>\n",
       "      <td>Career</td>\n",
       "      <td>2.4</td>\n",
       "      <td>2.0</td>\n",
       "      <td>4.4</td>\n",
       "    </tr>\n",
       "  </tbody>\n",
       "</table>\n",
       "</div>"
      ],
      "text/plain": [
       "    Season  OBPM  DBPM  BPM\n",
       "0  2019-20   2.4   2.0  4.4\n",
       "1   Career   2.4   2.0  4.4"
      ]
     },
     "execution_count": 57,
     "metadata": {},
     "output_type": "execute_result"
    }
   ],
   "source": [
    "# BPM\n",
    "college_advanced[['Season', 'OBPM', 'DBPM', 'BPM']]"
   ]
  },
  {
   "cell_type": "code",
   "execution_count": 62,
   "id": "64449ff3-9858-4ce1-905c-8d129b73b646",
   "metadata": {
    "tags": []
   },
   "outputs": [
    {
     "data": {
      "text/html": [
       "<div>\n",
       "<style scoped>\n",
       "    .dataframe tbody tr th:only-of-type {\n",
       "        vertical-align: middle;\n",
       "    }\n",
       "\n",
       "    .dataframe tbody tr th {\n",
       "        vertical-align: top;\n",
       "    }\n",
       "\n",
       "    .dataframe thead th {\n",
       "        text-align: right;\n",
       "    }\n",
       "</style>\n",
       "<table border=\"1\" class=\"dataframe\">\n",
       "  <thead>\n",
       "    <tr style=\"text-align: right;\">\n",
       "      <th></th>\n",
       "      <th>Season</th>\n",
       "      <th>3P</th>\n",
       "      <th>3PA</th>\n",
       "      <th>3P%</th>\n",
       "    </tr>\n",
       "  </thead>\n",
       "  <tbody>\n",
       "    <tr>\n",
       "      <th>0</th>\n",
       "      <td>2019-20</td>\n",
       "      <td>1.1</td>\n",
       "      <td>3.6</td>\n",
       "      <td>0.292</td>\n",
       "    </tr>\n",
       "    <tr>\n",
       "      <th>1</th>\n",
       "      <td>Career</td>\n",
       "      <td>1.1</td>\n",
       "      <td>3.6</td>\n",
       "      <td>0.292</td>\n",
       "    </tr>\n",
       "  </tbody>\n",
       "</table>\n",
       "</div>"
      ],
      "text/plain": [
       "    Season   3P  3PA    3P%\n",
       "0  2019-20  1.1  3.6  0.292\n",
       "1   Career  1.1  3.6  0.292"
      ]
     },
     "execution_count": 62,
     "metadata": {},
     "output_type": "execute_result"
    }
   ],
   "source": [
    "# 3-pointers\n",
    "college_per_game[['Season', '3P', '3PA', '3P%']]"
   ]
  },
  {
   "cell_type": "markdown",
   "id": "2d9d1d30-c582-443f-845d-f89d29f9a6a0",
   "metadata": {},
   "source": [
    "His 3-pointers weren't as great as this season, so did his free throws (which generally indicates his shooting accuracy). He has improved significantly his dribbling and passing as well."
   ]
  },
  {
   "cell_type": "code",
   "execution_count": null,
   "id": "ce77ed20-9555-4489-8515-23992442d87c",
   "metadata": {},
   "outputs": [],
   "source": []
  }
 ],
 "metadata": {
  "citation-manager": {
   "items": {}
  },
  "kernelspec": {
   "display_name": "Python 3.8",
   "language": "python",
   "name": "python3"
  },
  "language_info": {
   "codemirror_mode": {
    "name": "ipython",
    "version": 3
   },
   "file_extension": ".py",
   "mimetype": "text/x-python",
   "name": "python",
   "nbconvert_exporter": "python",
   "pygments_lexer": "ipython3",
   "version": "3.8.8"
  }
 },
 "nbformat": 4,
 "nbformat_minor": 5
}
